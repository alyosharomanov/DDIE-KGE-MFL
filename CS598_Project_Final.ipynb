{
  "cells": [
    {
      "cell_type": "markdown",
      "metadata": {
        "id": "wC9D9FHYk6vT"
      },
      "source": [
        "# Extracting Drug-drug Interactions from Biomedical Texts using Knowledge Graph Embeddings and Multi-focal Loss\n",
        "\n",
        "Our work aims to reproduce the paper ”Extract ing Drug-drug Interactions from biomedical texts using Knowledge graph embeddings and Multifocal Loss ” (Jin et al., 2022). Specifically, we will rebuild the proposed framework for DDI classification, attempt to reproduce the evaluation results, and do the ablation experiments.\n",
        "\n",
        "We verified the main claims of the paper:\n",
        "1. Claim 1- Novel DDI classification framework produce state of art result of 0.86 (F-score) :Our experiment results show a micro-F-score of 0.84  which is approximately 0.0224 less than what is claimed by the paper (86.24).Since a previous paper (Mondal, 2020) achieved 0.84, we are unable to conclude that the novel framework proposed in the paper provide state of the art results.\n",
        "2. Claim 2 - Novel Framework complements BERT based embedding with knowledge graph embedding :Framework successfully complemented language feature with drug Knowledge Graph . After adding drug knowledge embedding, recall increased by 0.03 and f-score increased by 0.01\n",
        "3. Claim 3 - KGE-MFL alleviated the problem of imbalance in dataset : MFL (F-score= 0.84) was able perform better than cross entropy loss function (F-score= 0.78) for the imbalanced DDI extraction dataset.\n"
      ]
    },
    {
      "cell_type": "markdown",
      "metadata": {
        "id": "HvWAMKNgsTNU"
      },
      "source": [
        "## Initial Setup\n",
        "\n",
        "### This entire step needs to be ran only once.\n",
        "*In case of errors, delete the corresponding folder in the working directory.*"
      ]
    },
    {
      "cell_type": "markdown",
      "metadata": {
        "id": "JkAxE-0rsTNU"
      },
      "source": [
        "Install necessary libraries using pip, in case of errors, please comsult the respective documentation for installation."
      ]
    },
    {
      "cell_type": "code",
      "execution_count": null,
      "metadata": {
        "colab": {
          "base_uri": "https://localhost:8080/"
        },
        "id": "QTBdd2gtCgS5",
        "outputId": "b75b3981-7cc0-498b-e2ec-2a3069055966"
      },
      "outputs": [
        {
          "name": "stdout",
          "output_type": "stream",
          "text": [
            "success!\n"
          ]
        }
      ],
      "source": [
        "!pip install -q matplotlib numpy pandas Requests scikit_learn stanza torch tqdm transformers\n",
        "print(\"success!\")"
      ]
    },
    {
      "cell_type": "markdown",
      "metadata": {
        "id": "ZhEFqKfGKJkh"
      },
      "source": [
        "Download the data and embeddings from the paper's authors."
      ]
    },
    {
      "cell_type": "code",
      "execution_count": null,
      "metadata": {
        "colab": {
          "base_uri": "https://localhost:8080/"
        },
        "id": "STBkFLd3KJYG",
        "outputId": "0ff8fc4d-b1e8-4540-d12f-1fe3e1f2aca8"
      },
      "outputs": [
        {
          "name": "stdout",
          "output_type": "stream",
          "text": [
            "\"data\" folder already exists.\n",
            "\"embedding\" folder already exists.\n"
          ]
        }
      ],
      "source": [
        "import os\n",
        "import requests\n",
        "import zipfile\n",
        "from io import BytesIO\n",
        "import platform\n",
        "import shutil\n",
        "\n",
        "def getGithubFolder(repo_url, branch, repo_name, folder_name):\n",
        "    if not os.path.exists(folder_name):\n",
        "        zip_url = f\"{repo_url}/archive/refs/heads/{branch}.zip\"\n",
        "\n",
        "        try:\n",
        "            response = requests.get(zip_url, timeout=(5, None))\n",
        "        except requests.exceptions.Timeout as err:\n",
        "            print(err)\n",
        "\n",
        "        with zipfile.ZipFile(BytesIO(response.content)) as zf:\n",
        "            for member in zf.infolist():\n",
        "                if member.filename.startswith(f\"{repo_name}/{folder_name}/\"):\n",
        "                    zf.extract(member)\n",
        "\n",
        "        if platform.system() == \"Windows\":\n",
        "            shutil.move(os.path.join(repo_name, folder_name), folder_name)\n",
        "            shutil.rmtree(repo_name)\n",
        "        else:\n",
        "            os.rename(f\"{repo_name}/{folder_name}\", folder_name)\n",
        "            os.system(f\"rm -r {repo_name}\")\n",
        "\n",
        "        print(f\"\\\"{folder_name}\\\" folder created.\")\n",
        "\n",
        "    else:\n",
        "        print(f\"\\\"{folder_name}\\\" folder already exists.\")\n",
        "\n",
        "\n",
        "getGithubFolder(\"https://github.com/NWU-IPMI/DDIE-KGE-MFL\", \"master\", \"DDIE-KGE-MFL-master\", \"data\")\n",
        "getGithubFolder(\"https://github.com/NWU-IPMI/DDIE-KGE-MFL\", \"master\", \"DDIE-KGE-MFL-master\", \"embedding\")"
      ]
    },
    {
      "cell_type": "markdown",
      "metadata": {
        "id": "OOA4HhcwsTNW"
      },
      "source": [
        "This is a implementation of Focal Loss with smooth label cross entropy supported which is proposed in 'Focal Loss for Dense Object Detection. (https://arxiv.org/abs/1708.02002)'"
      ]
    },
    {
      "cell_type": "code",
      "execution_count": null,
      "metadata": {
        "colab": {
          "base_uri": "https://localhost:8080/"
        },
        "id": "tUMAXl1FsTNX",
        "outputId": "d18be960-e80c-45f5-a1aa-bd83470b31f2"
      },
      "outputs": [
        {
          "name": "stdout",
          "output_type": "stream",
          "text": [
            "\"MultiFocalLoss.py\" already exists.\n"
          ]
        }
      ],
      "source": [
        "def getFile(url):\n",
        "    file_name = url.split('/').pop()\n",
        "    if not os.path.exists(file_name):\n",
        "\n",
        "        try:\n",
        "            response = requests.get(url, timeout=(5, None))\n",
        "        except requests.exceptions.Timeout as err:\n",
        "            print(err)\n",
        "\n",
        "        with open(file_name, \"wb\") as f:\n",
        "            f.write(response.content)\n",
        "            print(f\"\\\"{file_name}\\\" created.\")\n",
        "    else:\n",
        "        print(f\"\\\"{file_name}\\\" already exists.\")\n",
        "\n",
        "getFile(\"https://raw.githubusercontent.com/NWU-IPMI/DDIE-KGE-MFL/master/MultiFocalLoss.py\")"
      ]
    },
    {
      "cell_type": "markdown",
      "metadata": {
        "id": "oCnU5vyjsTNX"
      },
      "source": [
        "Import and download stanza."
      ]
    },
    {
      "cell_type": "code",
      "execution_count": null,
      "metadata": {
        "colab": {
          "base_uri": "https://localhost:8080/",
          "referenced_widgets": [
            "946446430c33488bb22b3e975f4c6c3f",
            "8ad4b9c7d61a41e3943289e490f0564f",
            "710ef14a12f14c3990e9d1c1601694e4",
            "239dc11693234a859e60942619f34ea8",
            "e2b32d5a5682490f9c2240e78aa75f43",
            "67ce011669cb4330828f39bdbf3f4fef",
            "484957b3664a4e41b789cf5b58182dc8",
            "0687ab2ee5914c48a3470d10870adc40",
            "80e60f544da64befb3482f8503b1e69f",
            "cd96d9ace1f24f5d9eba8cb291ee442b",
            "0b51f593ea4d4b02a4d716470ecd5d7a",
            "ab7deb06e47f45d69db507eaf85f0a7c",
            "a658bda663f74f398bc4180d5d4ee455",
            "71d3a8ddb2ef4003b829f42eb59007ec",
            "5e16f5b752ae496282ae16ec14678513",
            "0ca931837f6541989358021504edae29",
            "82f5ffb7200f46b7b030a42321e251f8",
            "ab45659f4d8142c09e2e8eba97a7a105",
            "8eaf933192f94c1abb1e6aef73aa08dd",
            "567704ca8cb9455893920435794ef528",
            "0981131595b14dadbabc56f76b57cf5c",
            "a8d988c4024d45079edead6bd68c0944",
            "1cbb1376337e49df9c34888ccc82f454",
            "9869cc5b56804a499d383a72a33f9877",
            "487901dce7af4a0bad23cf6338f029fa",
            "f3ce98b0090b401d9e346f886072ed0e",
            "aa0a426529134e85aebac567e5f504f3",
            "39f5661e5ef04bae812296121fd9f212",
            "a505916426384f89b7be425d42ae39ab",
            "ea2b3f408ddb411f8e863d955ddd4c71",
            "1b1b1e3b6dc44ba9886ba3feef950101",
            "0ccdfd25b52441749e35433f18f9707c",
            "49dcea384c77450aabe76b16a431e7cd",
            "808da6d114d146d0b80d29060c0e33a0",
            "447353c15c6d4ed698068f1ccae8e435",
            "80260baa2d694d36b2b8b2281e8d0c95",
            "862aa60a4d1043fe986ab015dc9369bf",
            "88261f1e3acf4153b3d697436495207a",
            "b04fa45bea53476bb3e9a249c1540682",
            "c5d62d0650834193a0b92d486b70c785",
            "50ee7e81f36547af9468625de52af4a0",
            "efec41e2400c4164b7d5a6e29db083bb",
            "0b035745e1604671bf0e4e249ec16cde",
            "d4aee88543894c468ac70e5322cb299c",
            "2cba9546b94544ba9590ee22c71748d1",
            "49bfa756b68d4273bb28f599dac8b092",
            "42e3ccf6bd364855a2142281060dd0c2",
            "4e680b9f25af408889326c658ba3c772",
            "0ae266d857404a0eb053e47d64cd84c3",
            "068db75833dc4a82aaaf4e2eeda5850a",
            "9c2ab0f6ebfa4e68a5567a6dd0b8d833",
            "fae4d94e972f441cabc522701c04833e",
            "b628c6baf3034655a17d5109eebde498",
            "50820fc0decd452abd0c99e0eb96c730",
            "024cddf37b9d4b83895ba7a61dabc426",
            "89b63312a5d945ef849039598c128b60",
            "9f05cd56160c44b3816a189e85a6f12b",
            "ceae1149933b406abedeabecd7b6ef76",
            "3e9de0d8afa042f085fe35669d46a821",
            "05e3a9d0969244678719075391fe7718",
            "dfecf8be0c86406bbba323fc31dcd553",
            "79da521c31384f15a926b1e93b3aa364",
            "d8cad346fcba413d8a7a6dec25cfc32b",
            "7fcbf9d597d14dada5a0263e2b4fc2f2",
            "87b535a49b1c40fe8aa932ccdc6b7415",
            "63e361d21bf241d99f415ccbf04c8ef8",
            "3e8fcf684264466c8bbf9982294469bf"
          ]
        },
        "id": "xG8TODu5uM4H",
        "outputId": "9100ddf6-0b97-415f-db75-3ae2cf8d6bb2"
      },
      "outputs": [
        {
          "data": {
            "application/vnd.jupyter.widget-view+json": {
              "model_id": "3e8fcf684264466c8bbf9982294469bf",
              "version_major": 2,
              "version_minor": 0
            },
            "text/plain": [
              "Downloading https://raw.githubusercontent.com/stanfordnlp/stanza-resources/main/resources_1.5.0.json:   0%|   …"
            ]
          },
          "metadata": {},
          "output_type": "display_data"
        },
        {
          "name": "stderr",
          "output_type": "stream",
          "text": [
            "2023-05-08 23:21:42 INFO: Downloading these customized packages for language: en (English)...\n",
            "=======================\n",
            "| Processor | Package |\n",
            "-----------------------\n",
            "| tokenize  | craft   |\n",
            "| pos       | craft   |\n",
            "| lemma     | craft   |\n",
            "| depparse  | craft   |\n",
            "| pretrain  | craft   |\n",
            "=======================\n",
            "\n",
            "2023-05-08 23:21:42 INFO: File exists: stanza_resources\\en\\tokenize\\craft.pt\n",
            "2023-05-08 23:21:42 INFO: File exists: stanza_resources\\en\\pos\\craft.pt\n",
            "2023-05-08 23:21:42 INFO: File exists: stanza_resources\\en\\lemma\\craft.pt\n",
            "2023-05-08 23:21:42 INFO: File exists: stanza_resources\\en\\depparse\\craft.pt\n",
            "2023-05-08 23:21:43 INFO: File exists: stanza_resources\\en\\pretrain\\craft.pt\n",
            "2023-05-08 23:21:43 INFO: Finished downloading models and saved to stanza_resources.\n"
          ]
        }
      ],
      "source": [
        "import stanza\n",
        "stanza.download('en', package='craft', model_dir=\"stanza_resources\")"
      ]
    },
    {
      "cell_type": "markdown",
      "metadata": {
        "id": "qdjEO9qmM2dQ"
      },
      "source": [
        "# Create Drug-drug interaction dataset\n"
      ]
    },
    {
      "cell_type": "markdown",
      "metadata": {
        "id": "KecupE12tIYP"
      },
      "source": [
        "Import the necessary libraries, use pip if anything fails. The notebook was developed with Google Collab and Conda enviornemnts in mind."
      ]
    },
    {
      "cell_type": "code",
      "execution_count": null,
      "metadata": {
        "id": "yTzTAncGsTNY"
      },
      "outputs": [],
      "source": [
        "import os\n",
        "import csv\n",
        "import pickle\n",
        "import stanza\n",
        "import random\n",
        "import torch\n",
        "import numpy as np\n",
        "import pandas as pd\n",
        "import matplotlib.pyplot as plt\n",
        "from tqdm import tqdm\n",
        "from torch import nn, cuda\n",
        "from sklearn.metrics import precision_recall_fscore_support\n",
        "from transformers import AutoTokenizer\n",
        "from torch.utils.data import Dataset, DataLoader\n",
        "from transformers import BertModel\n",
        "from typing import List\n",
        "from sklearn.manifold import TSNE\n",
        "from sklearn.decomposition import PCA\n",
        "from MultiFocalLoss import MultiFocalLoss"
      ]
    },
    {
      "cell_type": "markdown",
      "metadata": {
        "id": "abCBtULxv5MT"
      },
      "source": [
        "Seed all random variables."
      ]
    },
    {
      "cell_type": "code",
      "execution_count": null,
      "metadata": {
        "colab": {
          "base_uri": "https://localhost:8080/"
        },
        "id": "Xumhq2d6syak",
        "outputId": "78a3c061-99c4-4036-fbc5-d7ae084b4b59"
      },
      "outputs": [
        {
          "data": {
            "text/plain": [
              "<torch._C.Generator at 0x20c00919170>"
            ]
          },
          "execution_count": 6,
          "metadata": {},
          "output_type": "execute_result"
        }
      ],
      "source": [
        "random.seed(12345)\n",
        "np.random.seed(12345)\n",
        "torch.manual_seed(12345)"
      ]
    },
    {
      "cell_type": "markdown",
      "metadata": {
        "id": "Xy3HMc-OCkTN"
      },
      "source": [
        "Set cuda or cpu as the device depending on the machine configuration."
      ]
    },
    {
      "cell_type": "code",
      "execution_count": null,
      "metadata": {
        "colab": {
          "base_uri": "https://localhost:8080/"
        },
        "id": "0ZPfFJxNsTNY",
        "outputId": "5f0ae87d-1905-41a0-8087-19c5f78cc112"
      },
      "outputs": [
        {
          "name": "stdout",
          "output_type": "stream",
          "text": [
            "Your device is: cuda\n"
          ]
        }
      ],
      "source": [
        "device = 'cuda' if cuda.is_available() else 'cpu'\n",
        "print(\"Your device is: \" + device)"
      ]
    },
    {
      "cell_type": "markdown",
      "metadata": {
        "id": "jIhhCcHpwSiJ"
      },
      "source": [
        "Load Drug-drug interaction(DDI) data (Preprocessed)"
      ]
    },
    {
      "cell_type": "code",
      "execution_count": null,
      "metadata": {
        "colab": {
          "base_uri": "https://localhost:8080/"
        },
        "id": "5ZvXvZ7rDk7j",
        "outputId": "ce697b02-d6a3-4a47-abdc-c1f3aa58319e"
      },
      "outputs": [
        {
          "name": "stdout",
          "output_type": "stream",
          "text": [
            "Loaded entities dict with 7135 tokens.\n",
            "Loaded drug embeddings with 7135 entries\n",
            "Loaded training data with 22710 entries.\n",
            "Loaded test data with 4615 entries.\n"
          ]
        }
      ],
      "source": [
        "entities_dict = {}\n",
        "with open(\"data/entities.dict\", 'r', encoding='utf-8') as fr:\n",
        "    lines = csv.reader(fr, delimiter='\\t')\n",
        "    for line in lines:\n",
        "        idx = line[0]\n",
        "        entity = line[1]\n",
        "        entities_dict[entity] = int(idx)\n",
        "drug_embedding = np.load(\"./embedding/entity_embedding.npy\", allow_pickle=True)\n",
        "train_df = pd.read_csv(\"data/train.tsv\", delimiter=\"\\t\", header=None)\n",
        "test_df = pd.read_csv(\"data/test.tsv\", delimiter=\"\\t\", header=None)\n",
        "\n",
        "with pd.option_context('expand_frame_repr', False):\n",
        "    print(f\"Loaded entities dict with {len(entities_dict)} tokens.\")\n",
        "    print(f\"Loaded drug embeddings with {drug_embedding.shape[0]} entries\")\n",
        "    print(f\"Loaded training data with {train_df.shape[0]} entries.\")\n",
        "    print(f\"Loaded test data with {test_df.shape[0]} entries.\")"
      ]
    },
    {
      "cell_type": "markdown",
      "metadata": {
        "id": "qfq4TsNbwqgM"
      },
      "source": [
        "Visualization of the dataset statistics"
      ]
    },
    {
      "cell_type": "code",
      "execution_count": null,
      "metadata": {
        "colab": {
          "base_uri": "https://localhost:8080/",
          "height": 839
        },
        "id": "d6ISE1AHwxXp",
        "outputId": "dae5bfd0-6a75-41b0-e1de-64e1509a3825"
      },
      "outputs": [
        {
          "data": {
            "image/png": "[encoded data removed]",
            "text/plain": [
              "<Figure size 640x480 with 1 Axes>"
            ]
          },
          "metadata": {},
          "output_type": "display_data"
        },
        {
          "data": {
            "image/png": "[encoded data removed]",
            "text/plain": [
              "<Figure size 640x480 with 1 Axes>"
            ]
          },
          "metadata": {},
          "output_type": "display_data"
        }
      ],
      "source": [
        "# Generate Pie chart for train dataset\n",
        "df = train_df.groupby([0])[0].count()\n",
        "plt.pie(df,labels=df.index)\n",
        "plt.axis('equal')\n",
        "plt.title('Pie chart visualization of the training dataset labels')\n",
        "plt.show()\n",
        "\n",
        "# Generate Pie chart for test dataset\n",
        "df = test_df.groupby([0])[0].count()\n",
        "plt.pie(df,labels=df.index)\n",
        "plt.axis('equal')\n",
        "plt.title('Pie chart visualization of the test dataset labels')\n",
        "plt.show()"
      ]
    },
    {
      "cell_type": "markdown",
      "metadata": {
        "id": "9iPdHw7MRtRf"
      },
      "source": [
        "Functions for key-path creation."
      ]
    },
    {
      "cell_type": "code",
      "execution_count": null,
      "metadata": {
        "id": "NbMQHCItsTNa",
        "outputId": "887a7269-1927-4c14-f533-d6e5f1c1f62d"
      },
      "outputs": [
        {
          "name": "stderr",
          "output_type": "stream",
          "text": [
            "2023-05-08 23:21:44 INFO: Loading these models for language: en (English):\n",
            "========================\n",
            "| Processor | Package  |\n",
            "------------------------\n",
            "| tokenize  | combined |\n",
            "| pos       | combined |\n",
            "| lemma     | combined |\n",
            "| depparse  | combined |\n",
            "========================\n",
            "\n",
            "2023-05-08 23:21:44 INFO: Using device: cuda\n",
            "2023-05-08 23:21:44 INFO: Loading: tokenize\n",
            "2023-05-08 23:21:46 INFO: Loading: pos\n",
            "2023-05-08 23:21:46 INFO: Loading: lemma\n",
            "2023-05-08 23:21:47 INFO: Loading: depparse\n",
            "2023-05-08 23:21:47 INFO: Done loading processors!\n"
          ]
        }
      ],
      "source": [
        "nlp = stanza.Pipeline('en', processors='tokenize,pos,lemma,depparse', download_method=None)\n",
        "\n",
        "def get_path_to_root(sentence, idx):\n",
        "    path = [idx]\n",
        "    while sentence.words[idx - 1].head != 0:\n",
        "        idx = sentence.words[idx - 1].head\n",
        "        path.append(idx)\n",
        "    return path\n",
        "\n",
        "\n",
        "def find_lca(sentence, drug1_idx, drug2_idx):\n",
        "    path1 = get_path_to_root(sentence, drug1_idx)\n",
        "    path2 = get_path_to_root(sentence, drug2_idx)\n",
        "    for node1 in path1:\n",
        "        if node1 in path2:\n",
        "            return node1\n",
        "\n",
        "\n",
        "def extract_key_path(sentence, drug1_idx, drug2_idx):\n",
        "    lca = find_lca(sentence, drug1_idx, drug2_idx)\n",
        "    key_path = []\n",
        "\n",
        "    def add_path_to_lca(idx, lca, key_path):\n",
        "        while idx != lca:\n",
        "            key_path.append(idx)\n",
        "            idx = sentence.words[idx - 1].head\n",
        "        return key_path\n",
        "\n",
        "    key_path = add_path_to_lca(drug1_idx, lca, key_path)\n",
        "    key_path = add_path_to_lca(drug2_idx, lca, key_path)\n",
        "\n",
        "    key_path.append(lca)\n",
        "    key_path = list(set(key_path))\n",
        "\n",
        "    return key_path\n",
        "\n",
        "\n",
        "def key_path_feature_vector(key_path: List[int], sentence):\n",
        "    # For simplicity, we use the count of each POS tag in the key path as features\n",
        "    pos_counts = {}\n",
        "    for idx in key_path:\n",
        "        pos = sentence.words[idx - 1].upos\n",
        "        if pos not in pos_counts:\n",
        "            pos_counts[pos] = 0\n",
        "        pos_counts[pos] += 1\n",
        "\n",
        "    all_pos_tags = [\"ADJ\", \"ADP\", \"ADV\", \"AUX\", \"CCONJ\", \"DET\", \"INTJ\", \"NOUN\", \"NUM\", \"PART\", \"PRON\", \"PROPN\", \"PUNCT\", \"SCONJ\", \"SYM\", \"VERB\", \"X\"]\n",
        "    feature_vector = [pos_counts.get(tag, 0) for tag in all_pos_tags]\n",
        "\n",
        "    return torch.tensor(feature_vector, dtype=torch.float32)"
      ]
    },
    {
      "cell_type": "markdown",
      "metadata": {
        "id": "1M-0EBKtwdQF"
      },
      "source": [
        "Create a CustomDataset for DDI data"
      ]
    },
    {
      "cell_type": "code",
      "execution_count": null,
      "metadata": {
        "id": "Je7ayVRKsTNb"
      },
      "outputs": [],
      "source": [
        "ddi_labels = ['other', 'mechanism', 'effect', 'advise', 'int']\n",
        "label_mapping = {label: idx for idx, label in enumerate(ddi_labels)}\n",
        "\n",
        "\n",
        "class CustomDataset(Dataset):\n",
        "    def __init__(self, data, tokenizer, max_len, drug2Id, drug_embedding, cache_file=None):\n",
        "        self.data = data\n",
        "        self.tokenizer = tokenizer\n",
        "        self.max_len = max_len\n",
        "        self.drug2Id = drug2Id\n",
        "        self.drug_embedding = drug_embedding\n",
        "\n",
        "        # load data from cache if possible\n",
        "        if cache_file is not None and os.path.exists(cache_file):\n",
        "            print(f\"Reading from cache file at {cache_file}\")\n",
        "            with open(cache_file, \"rb\") as f:\n",
        "                self.preloaded_data = pickle.load(f)\n",
        "        else:\n",
        "            self.preloaded_data = []\n",
        "            for index in tqdm(range(len(data)), desc=\"Loading data\", leave=True):\n",
        "\n",
        "                text = self.data.iloc[index][1].replace('<e1>', '').replace('</e1>', '').replace('<e2>', '').replace('</e2>', '')\n",
        "\n",
        "                label_str = self.data.iloc[index][0]\n",
        "                label = label_mapping[label_str]\n",
        "                drug1 = self.data.iloc[index][2]\n",
        "                drug1Id = self.drug2Id[drug1]\n",
        "                drug1Embedding = self.drug_embedding[drug1Id]\n",
        "                drug2 = self.data.iloc[index][3]\n",
        "                drug2Id = self.drug2Id[drug2]\n",
        "                drug2Embedding = self.drug_embedding[drug2Id]\n",
        "\n",
        "                encoding = self.tokenizer.encode_plus(\n",
        "                    text,\n",
        "                    add_special_tokens=True,\n",
        "                    max_length=self.max_len,\n",
        "                    padding='max_length',\n",
        "                    truncation=True,\n",
        "                    return_token_type_ids=True,\n",
        "                    return_tensors='pt'\n",
        "                )\n",
        "\n",
        "                ### DRUG POSITIONS ###\n",
        "                # Tokenize drug names\n",
        "                drug1_tokens = self.tokenizer.tokenize(\"DRUG1\")\n",
        "                drug2_tokens = self.tokenizer.tokenize(\"DRUG2\")\n",
        "                # Find positions of drug entities\n",
        "                input_tokens = self.tokenizer.convert_ids_to_tokens(encoding[\"input_ids\"].squeeze())\n",
        "                drug1_position = self.find_entity_position(input_tokens, drug1_tokens)\n",
        "                drug2_position = self.find_entity_position(input_tokens, drug2_tokens)\n",
        "                if drug1_position == -1 or drug2_position == -1:\n",
        "                    print(f\"Error at index {index} in the data set. Reported by tokenizer. Skipping.\")\n",
        "                    print(drug1_position, drug2_position)\n",
        "                    print(text)\n",
        "                    continue\n",
        "\n",
        "                ### KEY-PATH WITH STANZA ###\n",
        "                doc = nlp(text)\n",
        "                key_path_feature = None\n",
        "                for sentence in doc.sentences:\n",
        "                    drug1_position_stanza = self.find_entity_position_stanza(sentence, \"DRUG1\")\n",
        "                    drug2_position_stanza = self.find_entity_position_stanza(sentence, \"DRUG2\")\n",
        "                    # Check if both DRUG1 and DRUG2 are found in the current sentence\n",
        "                    if drug1_position_stanza != -1 and drug2_position_stanza != -1:\n",
        "                        # Get key path\n",
        "                        key_path = extract_key_path(sentence, drug1_position_stanza, drug2_position_stanza)\n",
        "                        key_path_feature = key_path_feature_vector(key_path, sentence)\n",
        "                        # Stop searching, as both DRUG1 and DRUG2 have been found\n",
        "                        break\n",
        "                if key_path_feature is None:\n",
        "                    key_path_feature = torch.zeros(17, dtype=torch.float32)\n",
        "\n",
        "                text = text.replace(\"DRUG1\", drug1)\n",
        "                text = text.replace(\"DRUG2\", drug2)\n",
        "\n",
        "                self.preloaded_data.append({\n",
        "                    \"text\": text,\n",
        "                    \"input_ids\": encoding[\"input_ids\"],\n",
        "                    \"attention_mask\": encoding[\"attention_mask\"],\n",
        "                    \"token_type_ids\": encoding[\"token_type_ids\"],\n",
        "                    \"label\": torch.tensor(label, dtype=torch.long),\n",
        "                    \"drug1Emb\": torch.from_numpy(drug1Embedding),\n",
        "                    \"drug2Emb\": torch.from_numpy(drug2Embedding),\n",
        "                    \"drug1_position\": torch.tensor(drug1_position, dtype=torch.int),\n",
        "                    \"drug2_position\": torch.tensor(drug2_position, dtype=torch.int),\n",
        "                    \"key_path_feature\": key_path_feature\n",
        "                })\n",
        "            if cache_file is not None:\n",
        "                print(f\"Writing to cache file at {cache_file}\")\n",
        "                with open(cache_file, \"wb\") as f:\n",
        "                    pickle.dump(self.preloaded_data, f)\n",
        "\n",
        "    def __len__(self):\n",
        "        return len(self.preloaded_data)\n",
        "\n",
        "    def __getitem__(self, index):\n",
        "        return self.preloaded_data[index]\n",
        "\n",
        "    def find_entity_position(self, input_tokens, entity_tokens):\n",
        "        for i in range(len(input_tokens) - len(entity_tokens) + 1):\n",
        "            if input_tokens[i:i + len(entity_tokens)] == entity_tokens:\n",
        "                return i\n",
        "        return -1\n",
        "\n",
        "    def find_entity_position_stanza(self, sentence, entity):\n",
        "        for i, word in enumerate(sentence.words):\n",
        "            if word.text == entity:\n",
        "                return i + 1\n",
        "        return -1"
      ]
    },
    {
      "cell_type": "markdown",
      "metadata": {
        "id": "Tv-_X0Z-xr89"
      },
      "source": [
        "Create Training and Test dataset"
      ]
    },
    {
      "cell_type": "code",
      "execution_count": null,
      "metadata": {
        "id": "fLmZLIkTxoYI",
        "outputId": "d8ef4aaa-98c0-4cd6-9af7-f3baa0502ff4"
      },
      "outputs": [
        {
          "name": "stdout",
          "output_type": "stream",
          "text": [
            "Loading training dataset:\n",
            "Reading from cache file at train.cache\n",
            "Loading test dataset:\n",
            "Reading from cache file at test.cache\n"
          ]
        }
      ],
      "source": [
        "tokenizer = AutoTokenizer.from_pretrained(\"microsoft/BiomedNLP-PubMedBERT-base-uncased-abstract-fulltext\")\n",
        "tokenizer.add_special_tokens({\"additional_special_tokens\": [\"<e1>\", \"</e1>\", \"<e2>\", \"</e2>\"]})\n",
        "\n",
        "max_len = 390\n",
        "\n",
        "print(\"Loading training dataset:\")\n",
        "train_dataset = CustomDataset(train_df, tokenizer, max_len, entities_dict, drug_embedding, cache_file=\"train.cache\")\n",
        "print(\"Loading test dataset:\")\n",
        "test_dataset = CustomDataset(test_df, tokenizer, max_len, entities_dict, drug_embedding, cache_file=\"test.cache\")\n",
        "\n",
        "train_size = 32\n",
        "test_size = 16\n",
        "\n",
        "train_params = {'batch_size': train_size,\n",
        "                'shuffle': True,\n",
        "                'num_workers': 0\n",
        "                }\n",
        "\n",
        "test_params = {'batch_size': test_size,\n",
        "               'shuffle': True,\n",
        "               'num_workers': 0\n",
        "               }\n",
        "\n",
        "training_loader = DataLoader(train_dataset, **train_params)\n",
        "testing_loader = DataLoader(test_dataset, **test_params)"
      ]
    },
    {
      "cell_type": "markdown",
      "metadata": {
        "id": "w3NP_kg6yyYH"
      },
      "source": [
        "\n",
        "# Create DDI classifier model"
      ]
    },
    {
      "cell_type": "code",
      "execution_count": null,
      "metadata": {
        "id": "GLMIAM8OEeGv",
        "outputId": "153d303d-2562-4a37-d615-273c0e0fd960"
      },
      "outputs": [
        {
          "name": "stderr",
          "output_type": "stream",
          "text": [
            "Some weights of the model checkpoint at microsoft/BiomedNLP-PubMedBERT-base-uncased-abstract-fulltext were not used when initializing BertModel: ['cls.predictions.transform.dense.weight', 'cls.predictions.bias', 'cls.predictions.transform.LayerNorm.bias', 'cls.seq_relationship.weight', 'cls.predictions.transform.LayerNorm.weight', 'cls.predictions.transform.dense.bias', 'cls.predictions.decoder.weight', 'cls.predictions.decoder.bias', 'cls.seq_relationship.bias']\n",
            "- This IS expected if you are initializing BertModel from the checkpoint of a model trained on another task or with another architecture (e.g. initializing a BertForSequenceClassification model from a BertForPreTraining model).\n",
            "- This IS NOT expected if you are initializing BertModel from the checkpoint of a model that you expect to be exactly identical (initializing a BertForSequenceClassification model from a BertForSequenceClassification model).\n",
            "C:\\Users\\alyosharomanov\\anaconda3\\envs\\DDIE-KGE-MFL\\lib\\site-packages\\torch\\nn\\modules\\rnn.py:71: UserWarning: dropout option adds dropout after all but last recurrent layer, so non-zero dropout expects num_layers greater than 1, but got dropout=0.5 and num_layers=1\n",
            "  warnings.warn(\"dropout option adds dropout after all but last \"\n"
          ]
        },
        {
          "data": {
            "text/plain": [
              "BertDDIClassifier(\n",
              "  (bert): BertModel(\n",
              "    (embeddings): BertEmbeddings(\n",
              "      (word_embeddings): Embedding(30526, 768)\n",
              "      (position_embeddings): Embedding(512, 768)\n",
              "      (token_type_embeddings): Embedding(2, 768)\n",
              "      (LayerNorm): LayerNorm((768,), eps=1e-12, elementwise_affine=True)\n",
              "      (dropout): Dropout(p=0.1, inplace=False)\n",
              "    )\n",
              "    (encoder): BertEncoder(\n",
              "      (layer): ModuleList(\n",
              "        (0-11): 12 x BertLayer(\n",
              "          (attention): BertAttention(\n",
              "            (self): BertSelfAttention(\n",
              "              (query): Linear(in_features=768, out_features=768, bias=True)\n",
              "              (key): Linear(in_features=768, out_features=768, bias=True)\n",
              "              (value): Linear(in_features=768, out_features=768, bias=True)\n",
              "              (dropout): Dropout(p=0.1, inplace=False)\n",
              "            )\n",
              "            (output): BertSelfOutput(\n",
              "              (dense): Linear(in_features=768, out_features=768, bias=True)\n",
              "              (LayerNorm): LayerNorm((768,), eps=1e-12, elementwise_affine=True)\n",
              "              (dropout): Dropout(p=0.1, inplace=False)\n",
              "            )\n",
              "          )\n",
              "          (intermediate): BertIntermediate(\n",
              "            (dense): Linear(in_features=768, out_features=3072, bias=True)\n",
              "            (intermediate_act_fn): GELUActivation()\n",
              "          )\n",
              "          (output): BertOutput(\n",
              "            (dense): Linear(in_features=3072, out_features=768, bias=True)\n",
              "            (LayerNorm): LayerNorm((768,), eps=1e-12, elementwise_affine=True)\n",
              "            (dropout): Dropout(p=0.1, inplace=False)\n",
              "          )\n",
              "        )\n",
              "      )\n",
              "    )\n",
              "    (pooler): BertPooler(\n",
              "      (dense): Linear(in_features=768, out_features=768, bias=True)\n",
              "      (activation): Tanh()\n",
              "    )\n",
              "  )\n",
              "  (dropout): Dropout(p=0.3, inplace=False)\n",
              "  (linear): Linear(in_features=2000, out_features=200, bias=True)\n",
              "  (classifier): Linear(in_features=768, out_features=5, bias=True)\n",
              "  (key_path_lstm): LSTM(17, 768, batch_first=True, dropout=0.5, bidirectional=True)\n",
              "  (key_path_linear): Linear(in_features=1536, out_features=768, bias=True)\n",
              "  (MLP1): FCLayer(\n",
              "    (dropout): Dropout(p=0.3, inplace=False)\n",
              "    (linear): Linear(in_features=1936, out_features=768, bias=True)\n",
              "    (activation): ReLU()\n",
              "  )\n",
              ")"
            ]
          },
          "execution_count": 13,
          "metadata": {},
          "output_type": "execute_result"
        }
      ],
      "source": [
        "class FCLayer(nn.Module):\n",
        "    def __init__(self, input_dim, output_dim, dropout_rate=0.0, use_activation=True):\n",
        "        super(FCLayer, self).__init__()\n",
        "        self.use_activation = use_activation\n",
        "        self.dropout = nn.Dropout(dropout_rate)\n",
        "        self.linear = nn.Linear(input_dim, output_dim)\n",
        "        self.activation = nn.ReLU()\n",
        "\n",
        "    def forward(self, x):\n",
        "        x = self.dropout(x)\n",
        "        if self.use_activation:\n",
        "            x = self.activation(x)\n",
        "        return self.linear(x)\n",
        "\n",
        "\n",
        "class BertDDIClassifier(torch.nn.Module):\n",
        "    def __init__(self):\n",
        "        super(BertDDIClassifier, self).__init__()\n",
        "        self.bert = BertModel.from_pretrained(\"microsoft/BiomedNLP-PubMedBERT-base-uncased-abstract-fulltext\")\n",
        "        for param in self.bert.parameters():\n",
        "            param.requires_grad = True\n",
        "        self.bert.resize_token_embeddings(len(tokenizer))\n",
        "        self.dropout = torch.nn.Dropout(0.3)\n",
        "        self.linear = nn.Linear(2000, 200)\n",
        "        self.classifier = torch.nn.Linear(768, 5)\n",
        "        self.bert_layer_weights = nn.Parameter(torch.rand(13, 1))\n",
        "        self.key_path_lstm = nn.LSTM(input_size=17, hidden_size=768, num_layers=1, batch_first=True, dropout=0.5, bidirectional=True)\n",
        "        self.key_path_linear = nn.Linear(768 * 2, 768)\n",
        "        self.MLP1 = FCLayer((768 + 200) * 2, 768, 0.3)\n",
        "\n",
        "    def forward(self, input_ids, attention_mask, token_type_ids, drug1Embs, drug2Embs, drug1_position, drug2_position, key_path_feature, return_latent_space=False):\n",
        "        output = self.bert(input_ids=input_ids, attention_mask=attention_mask, token_type_ids=token_type_ids, output_hidden_states=True)\n",
        "\n",
        "        # position feature\n",
        "        position_feature = torch.abs(drug1_position - drug2_position).unsqueeze(1).to(device)\n",
        "        position_feature = position_feature / input_ids.shape[1]\n",
        "\n",
        "        # lanaguage feature\n",
        "        hidden_states = torch.stack(output[2])  # [13,Batch, 200, 768]\n",
        "        hidden_states = hidden_states[:, :, :1, :]  # [13,Batch,1,768] # Select embedding for CLS token (1st token)\n",
        "        weighted_bert_layers = hidden_states * self.bert_layer_weights.view(13, 1, 1, 1)  # [13, Batch ,1 , 768]\n",
        "        summed = torch.sum(weighted_bert_layers, (2, 3))  # [13,Batch]\n",
        "        summed = torch.permute(summed, [1, 0])  # [Batch,13]\n",
        "        bert_layer_attn = torch.nn.functional.softmax(summed, dim=1)  # [Batch, 13]\n",
        "        hidden_states = torch.permute(hidden_states, [1, 0, 2, 3])  # [Batch, 13,1,768]\n",
        "        language_feature = hidden_states * bert_layer_attn.view(bert_layer_attn.shape[0], bert_layer_attn.shape[1], 1, 1)\n",
        "        language_feature = torch.sum(language_feature, (2, 1))  # [Batch,768]\n",
        "\n",
        "        # key-path feature\n",
        "        key_path_feature = key_path_feature.unsqueeze(1)\n",
        "        lstm_output, _ = self.key_path_lstm(key_path_feature)\n",
        "        key_path_feature = lstm_output.squeeze(1)\n",
        "        key_path_feature = self.key_path_linear(key_path_feature)\n",
        "\n",
        "        # synthetical feature\n",
        "        pooled_output = (position_feature + language_feature + key_path_feature) / 3\n",
        "\n",
        "        # knowledege feature\n",
        "        drug1 = self.linear(drug1Embs)\n",
        "        drug2 = self.linear(drug2Embs)\n",
        "\n",
        "        # final\n",
        "        pooled_output = torch.cat([output.pooler_output, pooled_output, drug1, drug2], dim=1)\n",
        "\n",
        "        if return_latent_space:\n",
        "            return pooled_output\n",
        "\n",
        "        pooled_output = self.MLP1(pooled_output)\n",
        "        logits = self.classifier(self.dropout(pooled_output))\n",
        "        return logits\n",
        "\n",
        "\n",
        "model = BertDDIClassifier()\n",
        "model.to(device)"
      ]
    },
    {
      "cell_type": "markdown",
      "metadata": {
        "id": "GNpzrJ9SzB3S"
      },
      "source": [
        "# Training"
      ]
    },
    {
      "cell_type": "markdown",
      "metadata": {
        "id": "vfeXEIXySRrn"
      },
      "source": [
        "Initialize loss function with weights."
      ]
    },
    {
      "cell_type": "code",
      "execution_count": null,
      "metadata": {
        "id": "TIPeSQ8asTNd"
      },
      "outputs": [],
      "source": [
        "lossfn = MultiFocalLoss(len(ddi_labels), [0.8, 0.07, 0.08, 0.04, 0.01])"
      ]
    },
    {
      "cell_type": "markdown",
      "metadata": {
        "id": "ns_qtqCWSWHg"
      },
      "source": [
        "Set number of epochs."
      ]
    },
    {
      "cell_type": "code",
      "execution_count": null,
      "metadata": {
        "id": "fYeZ5q_wsTNe"
      },
      "outputs": [],
      "source": [
        "epochs = 6 if device == \"cuda\" else 1"
      ]
    },
    {
      "cell_type": "markdown",
      "metadata": {
        "id": "bwE3COKnSYhv"
      },
      "source": [
        "Initialize schedule with warmup."
      ]
    },
    {
      "cell_type": "code",
      "execution_count": null,
      "metadata": {
        "id": "rtVgM1CIsTNe",
        "outputId": "be40a0a9-7a88-4467-a6c6-910fa6d62091"
      },
      "outputs": [
        {
          "name": "stdout",
          "output_type": "stream",
          "text": [
            "Total training steps (for scheduler): 4260\n"
          ]
        }
      ],
      "source": [
        "from transformers import get_linear_schedule_with_warmup\n",
        "\n",
        "optimizer = torch.optim.Adam(params=model.parameters(), lr=2e-5, eps=1e-8)\n",
        "t_total = len(training_loader) * epochs\n",
        "scheduler = get_linear_schedule_with_warmup(optimizer, num_warmup_steps=0, num_training_steps=t_total)\n",
        "\n",
        "print(f\"Total training steps (for scheduler): {t_total}\")"
      ]
    },
    {
      "cell_type": "markdown",
      "metadata": {
        "id": "wGL3wPt3Scuc"
      },
      "source": [
        "DDI compute metrics"
      ]
    },
    {
      "cell_type": "code",
      "execution_count": null,
      "metadata": {
        "id": "F5-NEACAsTNe"
      },
      "outputs": [],
      "source": [
        "def ddi_compute_metrics(preds, labels):\n",
        "    preds = preds.cpu().numpy()\n",
        "    labels = labels.cpu().numpy()\n",
        "\n",
        "    p, r, f, s = precision_recall_fscore_support(y_pred=preds, y_true=labels, labels=[1, 2, 3, 4], average='micro')\n",
        "    result = {\n",
        "        \"Precision\": p,\n",
        "        \"Recall\": r,\n",
        "        \"microF\": f\n",
        "    }\n",
        "    return result"
      ]
    },
    {
      "cell_type": "markdown",
      "metadata": {
        "id": "JM5dvKfBSph9"
      },
      "source": [
        "Training loop"
      ]
    },
    {
      "cell_type": "code",
      "execution_count": null,
      "metadata": {
        "id": "fLxxKDz9v0FF"
      },
      "outputs": [],
      "source": [
        "def train(epoch):\n",
        "    model.train()\n",
        "    losses = []\n",
        "\n",
        "    for _, data in enumerate(tqdm(training_loader, desc=f\"Epoch {epoch}/{epochs}\", leave=True), 0):\n",
        "        ids = data['input_ids'].to(device, dtype=torch.long).squeeze()\n",
        "        mask = data['attention_mask'].to(device, dtype=torch.long).squeeze()\n",
        "        token_type_ids = data['token_type_ids'].to(device, dtype=torch.long).squeeze()\n",
        "        labels = data['label'].to(device, dtype=torch.long)\n",
        "        drug1Embs = data['drug1Emb'].to(device, dtype=torch.float32)\n",
        "        drug2Embs = data['drug2Emb'].to(device, dtype=torch.float32)\n",
        "        drug1_position = data['drug1_position'].to(device, dtype=torch.int)\n",
        "        drug2_position = data['drug2_position'].to(device, dtype=torch.int)\n",
        "        key_path_feature = data['key_path_feature'].to(device, dtype=torch.float32)\n",
        "        output = model(ids, mask, token_type_ids, drug1Embs, drug2Embs, drug1_position, drug2_position, key_path_feature)\n",
        "\n",
        "        optimizer.zero_grad()\n",
        "        loss = lossfn(output, labels)\n",
        "        loss.backward()\n",
        "        optimizer.step()\n",
        "        losses.append(loss.item())\n",
        "\n",
        "    return sum(losses) / len(losses)"
      ]
    },
    {
      "cell_type": "markdown",
      "metadata": {
        "id": "NOXrFoqDSrup"
      },
      "source": [
        "Evaluate loop"
      ]
    },
    {
      "cell_type": "code",
      "execution_count": null,
      "metadata": {
        "id": "CBl1Br-2tj04"
      },
      "outputs": [],
      "source": [
        "def evaluate(epoch):\n",
        "    model.eval()\n",
        "    outputs = []\n",
        "    labels = []\n",
        "    val_losses = []\n",
        "    latent_space = []\n",
        "\n",
        "    with torch.no_grad():\n",
        "        for _, data in enumerate(tqdm(testing_loader, desc=f\"Evaluating {epoch}/{epochs}\", leave=True), 0):\n",
        "            ids = data['input_ids'].to(device, dtype=torch.long).squeeze()\n",
        "            mask = data['attention_mask'].to(device, dtype=torch.long).squeeze()\n",
        "            token_type_ids = data['token_type_ids'].to(device, dtype=torch.long).squeeze()\n",
        "            label = data['label'].to(device, dtype=torch.long)\n",
        "            drug1Embs = data['drug1Emb'].to(device, dtype=torch.float32)\n",
        "            drug2Embs = data['drug2Emb'].to(device, dtype=torch.float32)\n",
        "            drug1_position = data['drug1_position'].to(device, dtype=torch.int)\n",
        "            drug2_position = data['drug2_position'].to(device, dtype=torch.int)\n",
        "            key_path_feature = data['key_path_feature'].to(device, dtype=torch.float32)\n",
        "            output = model(ids, mask, token_type_ids, drug1Embs, drug2Embs, drug1_position, drug2_position, key_path_feature)\n",
        "\n",
        "            latent_vectors = model(ids, mask, token_type_ids, drug1Embs, drug2Embs, drug1_position, drug2_position, key_path_feature, return_latent_space=True)\n",
        "            latent_space.append(latent_vectors.cpu().numpy())\n",
        "\n",
        "            val_loss = lossfn(output, label)\n",
        "            val_losses.append(val_loss.item())\n",
        "            outputs.append(output)\n",
        "            labels.append(label)\n",
        "        latent_space = np.vstack(latent_space)\n",
        "\n",
        "    return torch.cat(outputs, 0), torch.cat(labels, 0), sum(val_losses) / len(val_losses), latent_space"
      ]
    },
    {
      "cell_type": "markdown",
      "metadata": {
        "id": "10GDXDXWS9lz"
      },
      "source": [
        "Train"
      ]
    },
    {
      "cell_type": "code",
      "execution_count": null,
      "metadata": {
        "id": "NuaJP-uIMKnE",
        "scrolled": false,
        "outputId": "5395341f-c6a6-4429-df8d-a7b0630719a2"
      },
      "outputs": [
        {
          "name": "stdout",
          "output_type": "stream",
          "text": [
            "Training...\n",
            "Number of Epochs: 6\n",
            "Train samples: 22710\n",
            "Train batch size: 32\n",
            "Eval samples: 4615\n",
            "Eval batch size: 16\n"
          ]
        },
        {
          "name": "stderr",
          "output_type": "stream",
          "text": [
            "Epoch 1/6: 100%|█████████████████████████████████████████████████████████████████████| 710/710 [05:24<00:00,  2.19it/s]\n",
            "Evaluating 1/6: 100%|████████████████████████████████████████████████████████████████| 289/289 [00:47<00:00,  6.07it/s]\n"
          ]
        },
        {
          "name": "stdout",
          "output_type": "stream",
          "text": [
            "Metrics for Epoch 1 = {'Precision': 0.7748478701825557, 'Recall': 0.7876288659793814, 'microF': 0.7811860940695297}\n",
            "Train Loss: 0.08576441309021288\n",
            "Eval Loss: 0.07001840669555416\n"
          ]
        },
        {
          "name": "stderr",
          "output_type": "stream",
          "text": [
            "Epoch 2/6: 100%|█████████████████████████████████████████████████████████████████████| 710/710 [05:15<00:00,  2.25it/s]\n",
            "Evaluating 2/6: 100%|████████████████████████████████████████████████████████████████| 289/289 [00:43<00:00,  6.58it/s]\n"
          ]
        },
        {
          "name": "stdout",
          "output_type": "stream",
          "text": [
            "Metrics for Epoch 2 = {'Precision': 0.775811209439528, 'Recall': 0.8134020618556701, 'microF': 0.7941620533467538}\n",
            "Train Loss: 0.028096414538933304\n",
            "Eval Loss: 0.06688281831489255\n"
          ]
        },
        {
          "name": "stderr",
          "output_type": "stream",
          "text": [
            "Epoch 3/6: 100%|█████████████████████████████████████████████████████████████████████| 710/710 [05:02<00:00,  2.35it/s]\n",
            "Evaluating 3/6: 100%|████████████████████████████████████████████████████████████████| 289/289 [00:43<00:00,  6.57it/s]\n"
          ]
        },
        {
          "name": "stdout",
          "output_type": "stream",
          "text": [
            "Metrics for Epoch 3 = {'Precision': 0.832271762208068, 'Recall': 0.8082474226804124, 'microF': 0.8200836820083682}\n",
            "Train Loss: 0.018790982492205777\n",
            "Eval Loss: 0.06282491227486521\n"
          ]
        },
        {
          "name": "stderr",
          "output_type": "stream",
          "text": [
            "Epoch 4/6: 100%|█████████████████████████████████████████████████████████████████████| 710/710 [05:07<00:00,  2.31it/s]\n",
            "Evaluating 4/6: 100%|████████████████████████████████████████████████████████████████| 289/289 [00:45<00:00,  6.28it/s]\n"
          ]
        },
        {
          "name": "stdout",
          "output_type": "stream",
          "text": [
            "Metrics for Epoch 4 = {'Precision': 0.7860696517412935, 'Recall': 0.8144329896907216, 'microF': 0.7999999999999999}\n",
            "Train Loss: 0.012677453342508721\n",
            "Eval Loss: 0.07327604648275672\n"
          ]
        },
        {
          "name": "stderr",
          "output_type": "stream",
          "text": [
            "Epoch 5/6: 100%|█████████████████████████████████████████████████████████████████████| 710/710 [04:57<00:00,  2.39it/s]\n",
            "Evaluating 5/6: 100%|████████████████████████████████████████████████████████████████| 289/289 [00:43<00:00,  6.64it/s]\n"
          ]
        },
        {
          "name": "stdout",
          "output_type": "stream",
          "text": [
            "Metrics for Epoch 5 = {'Precision': 0.8579610538373424, 'Recall': 0.7721649484536083, 'microF': 0.812805208898535}\n",
            "Train Loss: 0.010166855729487868\n",
            "Eval Loss: 0.07984050094246634\n"
          ]
        },
        {
          "name": "stderr",
          "output_type": "stream",
          "text": [
            "Epoch 6/6: 100%|█████████████████████████████████████████████████████████████████████| 710/710 [04:57<00:00,  2.39it/s]\n",
            "Evaluating 6/6: 100%|████████████████████████████████████████████████████████████████| 289/289 [00:43<00:00,  6.70it/s]"
          ]
        },
        {
          "name": "stdout",
          "output_type": "stream",
          "text": [
            "Metrics for Epoch 6 = {'Precision': 0.8511087645195353, 'Recall': 0.8309278350515464, 'microF': 0.8408972352634324}\n",
            "Train Loss: 0.007608007194306685\n",
            "Eval Loss: 0.07194845522488032\n"
          ]
        },
        {
          "name": "stderr",
          "output_type": "stream",
          "text": [
            "\n"
          ]
        }
      ],
      "source": [
        "print(\"Training...\")\n",
        "print(f\"Number of Epochs: {epochs}\")\n",
        "print(f\"Train samples: {len(train_dataset)}\")\n",
        "print(f\"Train batch size: {train_size}\")\n",
        "print(f\"Eval samples: {len(test_dataset)}\")\n",
        "print(f\"Eval batch size: {test_size}\")\n",
        "\n",
        "all_train_losses, all_eval_losses, all_results = [], [], []\n",
        "for epoch in range(1, epochs + 1):\n",
        "    train_loss = train(epoch)\n",
        "    all_train_losses.append(train_loss)\n",
        "\n",
        "    outputs, labels, eval_loss, _ = evaluate(epoch)\n",
        "    all_eval_losses.append(eval_loss)\n",
        "\n",
        "    ddimetrics = ddi_compute_metrics(preds=torch.argmax(outputs, dim=1), labels=labels)\n",
        "    all_results.append(ddimetrics)\n",
        "\n",
        "    print(f\"Metrics for Epoch {epoch} = {ddimetrics}\")\n",
        "    print(f\"Train Loss: {train_loss}\")\n",
        "    print(f\"Eval Loss: {eval_loss}\")"
      ]
    },
    {
      "cell_type": "markdown",
      "metadata": {
        "id": "pMqsqwIuzWCL"
      },
      "source": [
        "# Evaluation and Visualisation"
      ]
    },
    {
      "cell_type": "code",
      "execution_count": null,
      "metadata": {
        "id": "-WWH5-DjCGEY",
        "outputId": "47fbf8e7-45e3-47b6-cd63-df4003001f0b"
      },
      "outputs": [
        {
          "name": "stderr",
          "output_type": "stream",
          "text": [
            "Evaluating 6/6: 100%|████████████████████████████████████████████████████████████████| 289/289 [00:44<00:00,  6.57it/s]"
          ]
        },
        {
          "name": "stdout",
          "output_type": "stream",
          "text": [
            "Metrics = {'Precision': 0.8511087645195353, 'Recall': 0.8309278350515464, 'microF': 0.8408972352634324}\n"
          ]
        },
        {
          "name": "stderr",
          "output_type": "stream",
          "text": [
            "\n"
          ]
        }
      ],
      "source": [
        "outputs, labels, val_losses, latent_space = evaluate(epoch)\n",
        "ddimetrics = ddi_compute_metrics(preds=torch.argmax(outputs, dim=1), labels=labels)\n",
        "print(f\"Metrics = {ddimetrics}\")"
      ]
    },
    {
      "cell_type": "code",
      "execution_count": null,
      "metadata": {
        "id": "KR8Zp4R-tw2s",
        "outputId": "233d55dd-ed92-4339-a6b2-e49b96c17d2a"
      },
      "outputs": [
        {
          "data": {
            "image/png": "[encoded data removed]",
            "text/plain": [
              "<Figure size 640x480 with 1 Axes>"
            ]
          },
          "metadata": {},
          "output_type": "display_data"
        }
      ],
      "source": [
        "epochs_list = list(range(1, epochs + 1))\n",
        "\n",
        "plt.plot(epochs_list, all_train_losses, label='Training Loss')\n",
        "plt.plot(epochs_list, all_eval_losses, label='Validation Loss', linestyle='--')\n",
        "plt.xlabel('Epoch')\n",
        "plt.ylabel('Loss')\n",
        "plt.title('Training and Validation Losses')\n",
        "plt.legend()\n",
        "plt.show()"
      ]
    },
    {
      "cell_type": "code",
      "execution_count": null,
      "metadata": {
        "id": "VSFHjvYUsTNh",
        "outputId": "92942217-be19-4962-d849-de7969494d6e"
      },
      "outputs": [
        {
          "data": {
            "image/png": "[encoded data removed]",
            "text/plain": [
              "<Figure size 640x480 with 1 Axes>"
            ]
          },
          "metadata": {},
          "output_type": "display_data"
        }
      ],
      "source": [
        "precision = [d['Precision'] for d in all_results]\n",
        "recall = [d['Recall'] for d in all_results]\n",
        "microF = [d['microF'] for d in all_results]\n",
        "\n",
        "plt.plot(epochs_list, precision, label='Precision', linestyle='--')\n",
        "plt.plot(epochs_list, recall, label='Recall', linestyle='--')\n",
        "plt.plot(epochs_list, microF, label='microF', marker='o')\n",
        "plt.xlabel('Epoch')\n",
        "plt.ylabel('Score')\n",
        "plt.title('Precision, Recall, and microF Scores')\n",
        "plt.legend()\n",
        "plt.show()"
      ]
    },
    {
      "cell_type": "code",
      "execution_count": null,
      "metadata": {
        "id": "zmLWj0G1sTNh"
      },
      "outputs": [],
      "source": [
        "# t-SNE\n",
        "tsne = TSNE(n_components=2, random_state=42)\n",
        "reduced_latent_space_tsne = tsne.fit_transform(latent_space)\n",
        "\n",
        "# PCA\n",
        "pca = PCA(n_components=2)\n",
        "reduced_latent_space_pca = pca.fit_transform(latent_space)"
      ]
    },
    {
      "cell_type": "code",
      "execution_count": null,
      "metadata": {
        "id": "V-BfmThpsTNh",
        "outputId": "a8fe543d-09df-491e-ce3c-c06d5c1d2ec6"
      },
      "outputs": [
        {
          "data": {
            "image/png": "[encoded data removed]",
            "text/plain": [
              "<Figure size 800x600 with 1 Axes>"
            ]
          },
          "metadata": {},
          "output_type": "display_data"
        },
        {
          "data": {
            "image/png": "[encoded data removed]",
            "text/plain": [
              "<Figure size 800x600 with 1 Axes>"
            ]
          },
          "metadata": {},
          "output_type": "display_data"
        }
      ],
      "source": [
        "# t-SNE\n",
        "plt.figure(figsize=(8, 6))\n",
        "plt.scatter(reduced_latent_space_tsne[:, 0], reduced_latent_space_tsne[:, 1])\n",
        "plt.title(\"t-SNE Visualization of Latent Space\")\n",
        "plt.xlabel(\"Dimension 1\")\n",
        "plt.ylabel(\"Dimension 2\")\n",
        "plt.show()\n",
        "\n",
        "# PCA\n",
        "plt.figure(figsize=(8, 6))\n",
        "plt.scatter(reduced_latent_space_pca[:, 0], reduced_latent_space_pca[:, 1])\n",
        "plt.title(\"PCA Visualization of Latent Space\")\n",
        "plt.xlabel(\"Principal Component 1\")\n",
        "plt.ylabel(\"Principal Component 2\")\n",
        "plt.show()"
      ]
    },
    {
      "cell_type": "markdown",
      "metadata": {
        "id": "3ubdAELwuF9q"
      },
      "source": [
        "# Summary and Conclusion\n",
        "\n",
        "Our experiment results show the a micro F-score\n",
        "of 0.84 for DDI classification which is approxi-\n",
        "mately 0.0224 less than what is claimed by the pa-\n",
        "per (86.24).Since a previous paper (Mondal, 2020)\n",
        "achieved 0.84, we are unable to conclude that novel\n",
        "framework proposed in the paper provide state of\n",
        "the art results on DDIExtraction 2013 dataset. Also\n",
        "we observed that framework successfully comple-\n",
        "mented language feature with Drug Knowledge\n",
        "Graph . After adding drug knowledge\n",
        "embedding, recall increased by 0.03 and microF\n",
        "increased by 0.01. Also, As claimed by the paper,\n",
        "MFL was able perform better than cross entropy\n",
        "loss function for the imbalanced DDI extraction\n",
        "dataset."
      ]
    },
    {
      "cell_type": "markdown",
      "metadata": {
        "id": "E6EELU5HkI7X"
      },
      "source": [
        "# References\n",
        "Xin Jin, Xia Sun, Jiacheng Chen, and Richard Sutcliffe. 2022. Extracting Drug-drug Interactions from Biomedical Texts using Knowledge Graph Embeddings and Multi-focal Loss. In Proceedings of the 31st ACM International Conference on Information &amp; Knowledge Management (CIKM '22). Association for Computing Machinery, New York, NY, USA, 884–893. https://doi.org/10.1145/3511808.3557318\n",
        "\n",
        "Gu, Y., Tinn, R., Cheng, H., Lucas, M.R., Usuyama, N., Liu, X., Naumann, T., Gao, J., & Poon, H. (2020). Domain-Specific Language Model Pretraining for Biomedical Natural Language Processing. ACM Transactions on Computing for Healthcare (HEALTH), 3, 1 - 23.\n",
        "\n",
        "Lin, T., Goyal, P., Girshick, R.B., He, K., & Dollár, P. (2017). Focal Loss for Dense Object Detection. 2017 IEEE International Conference on Computer Vision (ICCV), 2999-3007.\n",
        "\n"
      ]
    }
  ],
  "metadata": {
    "accelerator": "GPU",
    "colab": {
      "provenance": []
    },
    "gpuClass": "standard",
    "kernelspec": {
      "display_name": "Python 3 (ipykernel)",
      "language": "python",
      "name": "python3"
    },
    "language_info": {
      "codemirror_mode": {
        "name": "ipython",
        "version": 3
      },
      "file_extension": ".py",
      "mimetype": "text/x-python",
      "name": "python",
      "nbconvert_exporter": "python",
      "pygments_lexer": "ipython3",
      "version": "3.9.16"
    },
    "widgets": {
      "application/vnd.jupyter.widget-state+json": {
        "024cddf37b9d4b83895ba7a61dabc426": {
          "model_module": "@jupyter-widgets/controls",
          "model_module_version": "1.5.0",
          "model_name": "DescriptionStyleModel",
          "state": {
            "_model_module": "@jupyter-widgets/controls",
            "_model_module_version": "1.5.0",
            "_model_name": "DescriptionStyleModel",
            "_view_count": null,
            "_view_module": "@jupyter-widgets/base",
            "_view_module_version": "1.2.0",
            "_view_name": "StyleView",
            "description_width": ""
          }
        },
        "05e3a9d0969244678719075391fe7718": {
          "model_module": "@jupyter-widgets/base",
          "model_module_version": "1.2.0",
          "model_name": "LayoutModel",
          "state": {
            "_model_module": "@jupyter-widgets/base",
            "_model_module_version": "1.2.0",
            "_model_name": "LayoutModel",
            "_view_count": null,
            "_view_module": "@jupyter-widgets/base",
            "_view_module_version": "1.2.0",
            "_view_name": "LayoutView",
            "align_content": null,
            "align_items": null,
            "align_self": null,
            "border": null,
            "bottom": null,
            "display": null,
            "flex": null,
            "flex_flow": null,
            "grid_area": null,
            "grid_auto_columns": null,
            "grid_auto_flow": null,
            "grid_auto_rows": null,
            "grid_column": null,
            "grid_gap": null,
            "grid_row": null,
            "grid_template_areas": null,
            "grid_template_columns": null,
            "grid_template_rows": null,
            "height": null,
            "justify_content": null,
            "justify_items": null,
            "left": null,
            "margin": null,
            "max_height": null,
            "max_width": null,
            "min_height": null,
            "min_width": null,
            "object_fit": null,
            "object_position": null,
            "order": null,
            "overflow": null,
            "overflow_x": null,
            "overflow_y": null,
            "padding": null,
            "right": null,
            "top": null,
            "visibility": null,
            "width": null
          }
        },
        "0687ab2ee5914c48a3470d10870adc40": {
          "model_module": "@jupyter-widgets/base",
          "model_module_version": "1.2.0",
          "model_name": "LayoutModel",
          "state": {
            "_model_module": "@jupyter-widgets/base",
            "_model_module_version": "1.2.0",
            "_model_name": "LayoutModel",
            "_view_count": null,
            "_view_module": "@jupyter-widgets/base",
            "_view_module_version": "1.2.0",
            "_view_name": "LayoutView",
            "align_content": null,
            "align_items": null,
            "align_self": null,
            "border": null,
            "bottom": null,
            "display": null,
            "flex": null,
            "flex_flow": null,
            "grid_area": null,
            "grid_auto_columns": null,
            "grid_auto_flow": null,
            "grid_auto_rows": null,
            "grid_column": null,
            "grid_gap": null,
            "grid_row": null,
            "grid_template_areas": null,
            "grid_template_columns": null,
            "grid_template_rows": null,
            "height": null,
            "justify_content": null,
            "justify_items": null,
            "left": null,
            "margin": null,
            "max_height": null,
            "max_width": null,
            "min_height": null,
            "min_width": null,
            "object_fit": null,
            "object_position": null,
            "order": null,
            "overflow": null,
            "overflow_x": null,
            "overflow_y": null,
            "padding": null,
            "right": null,
            "top": null,
            "visibility": null,
            "width": null
          }
        },
        "068db75833dc4a82aaaf4e2eeda5850a": {
          "model_module": "@jupyter-widgets/base",
          "model_module_version": "1.2.0",
          "model_name": "LayoutModel",
          "state": {
            "_model_module": "@jupyter-widgets/base",
            "_model_module_version": "1.2.0",
            "_model_name": "LayoutModel",
            "_view_count": null,
            "_view_module": "@jupyter-widgets/base",
            "_view_module_version": "1.2.0",
            "_view_name": "LayoutView",
            "align_content": null,
            "align_items": null,
            "align_self": null,
            "border": null,
            "bottom": null,
            "display": null,
            "flex": null,
            "flex_flow": null,
            "grid_area": null,
            "grid_auto_columns": null,
            "grid_auto_flow": null,
            "grid_auto_rows": null,
            "grid_column": null,
            "grid_gap": null,
            "grid_row": null,
            "grid_template_areas": null,
            "grid_template_columns": null,
            "grid_template_rows": null,
            "height": null,
            "justify_content": null,
            "justify_items": null,
            "left": null,
            "margin": null,
            "max_height": null,
            "max_width": null,
            "min_height": null,
            "min_width": null,
            "object_fit": null,
            "object_position": null,
            "order": null,
            "overflow": null,
            "overflow_x": null,
            "overflow_y": null,
            "padding": null,
            "right": null,
            "top": null,
            "visibility": null,
            "width": null
          }
        },
        "0981131595b14dadbabc56f76b57cf5c": {
          "model_module": "@jupyter-widgets/base",
          "model_module_version": "1.2.0",
          "model_name": "LayoutModel",
          "state": {
            "_model_module": "@jupyter-widgets/base",
            "_model_module_version": "1.2.0",
            "_model_name": "LayoutModel",
            "_view_count": null,
            "_view_module": "@jupyter-widgets/base",
            "_view_module_version": "1.2.0",
            "_view_name": "LayoutView",
            "align_content": null,
            "align_items": null,
            "align_self": null,
            "border": null,
            "bottom": null,
            "display": null,
            "flex": null,
            "flex_flow": null,
            "grid_area": null,
            "grid_auto_columns": null,
            "grid_auto_flow": null,
            "grid_auto_rows": null,
            "grid_column": null,
            "grid_gap": null,
            "grid_row": null,
            "grid_template_areas": null,
            "grid_template_columns": null,
            "grid_template_rows": null,
            "height": null,
            "justify_content": null,
            "justify_items": null,
            "left": null,
            "margin": null,
            "max_height": null,
            "max_width": null,
            "min_height": null,
            "min_width": null,
            "object_fit": null,
            "object_position": null,
            "order": null,
            "overflow": null,
            "overflow_x": null,
            "overflow_y": null,
            "padding": null,
            "right": null,
            "top": null,
            "visibility": null,
            "width": null
          }
        },
        "0ae266d857404a0eb053e47d64cd84c3": {
          "model_module": "@jupyter-widgets/base",
          "model_module_version": "1.2.0",
          "model_name": "LayoutModel",
          "state": {
            "_model_module": "@jupyter-widgets/base",
            "_model_module_version": "1.2.0",
            "_model_name": "LayoutModel",
            "_view_count": null,
            "_view_module": "@jupyter-widgets/base",
            "_view_module_version": "1.2.0",
            "_view_name": "LayoutView",
            "align_content": null,
            "align_items": null,
            "align_self": null,
            "border": null,
            "bottom": null,
            "display": null,
            "flex": null,
            "flex_flow": null,
            "grid_area": null,
            "grid_auto_columns": null,
            "grid_auto_flow": null,
            "grid_auto_rows": null,
            "grid_column": null,
            "grid_gap": null,
            "grid_row": null,
            "grid_template_areas": null,
            "grid_template_columns": null,
            "grid_template_rows": null,
            "height": null,
            "justify_content": null,
            "justify_items": null,
            "left": null,
            "margin": null,
            "max_height": null,
            "max_width": null,
            "min_height": null,
            "min_width": null,
            "object_fit": null,
            "object_position": null,
            "order": null,
            "overflow": null,
            "overflow_x": null,
            "overflow_y": null,
            "padding": null,
            "right": null,
            "top": null,
            "visibility": null,
            "width": null
          }
        },
        "0b035745e1604671bf0e4e249ec16cde": {
          "model_module": "@jupyter-widgets/base",
          "model_module_version": "1.2.0",
          "model_name": "LayoutModel",
          "state": {
            "_model_module": "@jupyter-widgets/base",
            "_model_module_version": "1.2.0",
            "_model_name": "LayoutModel",
            "_view_count": null,
            "_view_module": "@jupyter-widgets/base",
            "_view_module_version": "1.2.0",
            "_view_name": "LayoutView",
            "align_content": null,
            "align_items": null,
            "align_self": null,
            "border": null,
            "bottom": null,
            "display": null,
            "flex": null,
            "flex_flow": null,
            "grid_area": null,
            "grid_auto_columns": null,
            "grid_auto_flow": null,
            "grid_auto_rows": null,
            "grid_column": null,
            "grid_gap": null,
            "grid_row": null,
            "grid_template_areas": null,
            "grid_template_columns": null,
            "grid_template_rows": null,
            "height": null,
            "justify_content": null,
            "justify_items": null,
            "left": null,
            "margin": null,
            "max_height": null,
            "max_width": null,
            "min_height": null,
            "min_width": null,
            "object_fit": null,
            "object_position": null,
            "order": null,
            "overflow": null,
            "overflow_x": null,
            "overflow_y": null,
            "padding": null,
            "right": null,
            "top": null,
            "visibility": null,
            "width": null
          }
        },
        "0b51f593ea4d4b02a4d716470ecd5d7a": {
          "model_module": "@jupyter-widgets/controls",
          "model_module_version": "1.5.0",
          "model_name": "DescriptionStyleModel",
          "state": {
            "_model_module": "@jupyter-widgets/controls",
            "_model_module_version": "1.5.0",
            "_model_name": "DescriptionStyleModel",
            "_view_count": null,
            "_view_module": "@jupyter-widgets/base",
            "_view_module_version": "1.2.0",
            "_view_name": "StyleView",
            "description_width": ""
          }
        },
        "0ca931837f6541989358021504edae29": {
          "model_module": "@jupyter-widgets/base",
          "model_module_version": "1.2.0",
          "model_name": "LayoutModel",
          "state": {
            "_model_module": "@jupyter-widgets/base",
            "_model_module_version": "1.2.0",
            "_model_name": "LayoutModel",
            "_view_count": null,
            "_view_module": "@jupyter-widgets/base",
            "_view_module_version": "1.2.0",
            "_view_name": "LayoutView",
            "align_content": null,
            "align_items": null,
            "align_self": null,
            "border": null,
            "bottom": null,
            "display": null,
            "flex": null,
            "flex_flow": null,
            "grid_area": null,
            "grid_auto_columns": null,
            "grid_auto_flow": null,
            "grid_auto_rows": null,
            "grid_column": null,
            "grid_gap": null,
            "grid_row": null,
            "grid_template_areas": null,
            "grid_template_columns": null,
            "grid_template_rows": null,
            "height": null,
            "justify_content": null,
            "justify_items": null,
            "left": null,
            "margin": null,
            "max_height": null,
            "max_width": null,
            "min_height": null,
            "min_width": null,
            "object_fit": null,
            "object_position": null,
            "order": null,
            "overflow": null,
            "overflow_x": null,
            "overflow_y": null,
            "padding": null,
            "right": null,
            "top": null,
            "visibility": null,
            "width": null
          }
        },
        "0ccdfd25b52441749e35433f18f9707c": {
          "model_module": "@jupyter-widgets/base",
          "model_module_version": "1.2.0",
          "model_name": "LayoutModel",
          "state": {
            "_model_module": "@jupyter-widgets/base",
            "_model_module_version": "1.2.0",
            "_model_name": "LayoutModel",
            "_view_count": null,
            "_view_module": "@jupyter-widgets/base",
            "_view_module_version": "1.2.0",
            "_view_name": "LayoutView",
            "align_content": null,
            "align_items": null,
            "align_self": null,
            "border": null,
            "bottom": null,
            "display": null,
            "flex": null,
            "flex_flow": null,
            "grid_area": null,
            "grid_auto_columns": null,
            "grid_auto_flow": null,
            "grid_auto_rows": null,
            "grid_column": null,
            "grid_gap": null,
            "grid_row": null,
            "grid_template_areas": null,
            "grid_template_columns": null,
            "grid_template_rows": null,
            "height": null,
            "justify_content": null,
            "justify_items": null,
            "left": null,
            "margin": null,
            "max_height": null,
            "max_width": null,
            "min_height": null,
            "min_width": null,
            "object_fit": null,
            "object_position": null,
            "order": null,
            "overflow": null,
            "overflow_x": null,
            "overflow_y": null,
            "padding": null,
            "right": null,
            "top": null,
            "visibility": null,
            "width": null
          }
        },
        "1b1b1e3b6dc44ba9886ba3feef950101": {
          "model_module": "@jupyter-widgets/controls",
          "model_module_version": "1.5.0",
          "model_name": "ProgressStyleModel",
          "state": {
            "_model_module": "@jupyter-widgets/controls",
            "_model_module_version": "1.5.0",
            "_model_name": "ProgressStyleModel",
            "_view_count": null,
            "_view_module": "@jupyter-widgets/base",
            "_view_module_version": "1.2.0",
            "_view_name": "StyleView",
            "bar_color": null,
            "description_width": ""
          }
        },
        "1cbb1376337e49df9c34888ccc82f454": {
          "model_module": "@jupyter-widgets/controls",
          "model_module_version": "1.5.0",
          "model_name": "HBoxModel",
          "state": {
            "_dom_classes": [],
            "_model_module": "@jupyter-widgets/controls",
            "_model_module_version": "1.5.0",
            "_model_name": "HBoxModel",
            "_view_count": null,
            "_view_module": "@jupyter-widgets/controls",
            "_view_module_version": "1.5.0",
            "_view_name": "HBoxView",
            "box_style": "",
            "children": [
              "IPY_MODEL_9869cc5b56804a499d383a72a33f9877",
              "IPY_MODEL_487901dce7af4a0bad23cf6338f029fa",
              "IPY_MODEL_f3ce98b0090b401d9e346f886072ed0e"
            ],
            "layout": "IPY_MODEL_aa0a426529134e85aebac567e5f504f3"
          }
        },
        "239dc11693234a859e60942619f34ea8": {
          "model_module": "@jupyter-widgets/controls",
          "model_module_version": "1.5.0",
          "model_name": "HTMLModel",
          "state": {
            "_dom_classes": [],
            "_model_module": "@jupyter-widgets/controls",
            "_model_module_version": "1.5.0",
            "_model_name": "HTMLModel",
            "_view_count": null,
            "_view_module": "@jupyter-widgets/controls",
            "_view_module_version": "1.5.0",
            "_view_name": "HTMLView",
            "description": "",
            "description_tooltip": null,
            "layout": "IPY_MODEL_cd96d9ace1f24f5d9eba8cb291ee442b",
            "placeholder": "​",
            "style": "IPY_MODEL_0b51f593ea4d4b02a4d716470ecd5d7a",
            "value": " 216k/? [00:00&lt;00:00, 7.74MB/s]"
          }
        },
        "2cba9546b94544ba9590ee22c71748d1": {
          "model_module": "@jupyter-widgets/controls",
          "model_module_version": "1.5.0",
          "model_name": "HBoxModel",
          "state": {
            "_dom_classes": [],
            "_model_module": "@jupyter-widgets/controls",
            "_model_module_version": "1.5.0",
            "_model_name": "HBoxModel",
            "_view_count": null,
            "_view_module": "@jupyter-widgets/controls",
            "_view_module_version": "1.5.0",
            "_view_name": "HBoxView",
            "box_style": "",
            "children": [
              "IPY_MODEL_49bfa756b68d4273bb28f599dac8b092",
              "IPY_MODEL_42e3ccf6bd364855a2142281060dd0c2",
              "IPY_MODEL_4e680b9f25af408889326c658ba3c772"
            ],
            "layout": "IPY_MODEL_0ae266d857404a0eb053e47d64cd84c3"
          }
        },
        "39f5661e5ef04bae812296121fd9f212": {
          "model_module": "@jupyter-widgets/base",
          "model_module_version": "1.2.0",
          "model_name": "LayoutModel",
          "state": {
            "_model_module": "@jupyter-widgets/base",
            "_model_module_version": "1.2.0",
            "_model_name": "LayoutModel",
            "_view_count": null,
            "_view_module": "@jupyter-widgets/base",
            "_view_module_version": "1.2.0",
            "_view_name": "LayoutView",
            "align_content": null,
            "align_items": null,
            "align_self": null,
            "border": null,
            "bottom": null,
            "display": null,
            "flex": null,
            "flex_flow": null,
            "grid_area": null,
            "grid_auto_columns": null,
            "grid_auto_flow": null,
            "grid_auto_rows": null,
            "grid_column": null,
            "grid_gap": null,
            "grid_row": null,
            "grid_template_areas": null,
            "grid_template_columns": null,
            "grid_template_rows": null,
            "height": null,
            "justify_content": null,
            "justify_items": null,
            "left": null,
            "margin": null,
            "max_height": null,
            "max_width": null,
            "min_height": null,
            "min_width": null,
            "object_fit": null,
            "object_position": null,
            "order": null,
            "overflow": null,
            "overflow_x": null,
            "overflow_y": null,
            "padding": null,
            "right": null,
            "top": null,
            "visibility": null,
            "width": null
          }
        },
        "3e9de0d8afa042f085fe35669d46a821": {
          "model_module": "@jupyter-widgets/controls",
          "model_module_version": "1.5.0",
          "model_name": "HTMLModel",
          "state": {
            "_dom_classes": [],
            "_model_module": "@jupyter-widgets/controls",
            "_model_module_version": "1.5.0",
            "_model_name": "HTMLModel",
            "_view_count": null,
            "_view_module": "@jupyter-widgets/controls",
            "_view_module_version": "1.5.0",
            "_view_name": "HTMLView",
            "description": "",
            "description_tooltip": null,
            "layout": "IPY_MODEL_87b535a49b1c40fe8aa932ccdc6b7415",
            "placeholder": "​",
            "style": "IPY_MODEL_63e361d21bf241d99f415ccbf04c8ef8",
            "value": " 82.6M/82.6M [00:01&lt;00:00, 118MB/s]"
          }
        },
        "42e3ccf6bd364855a2142281060dd0c2": {
          "model_module": "@jupyter-widgets/controls",
          "model_module_version": "1.5.0",
          "model_name": "FloatProgressModel",
          "state": {
            "_dom_classes": [],
            "_model_module": "@jupyter-widgets/controls",
            "_model_module_version": "1.5.0",
            "_model_name": "FloatProgressModel",
            "_view_count": null,
            "_view_module": "@jupyter-widgets/controls",
            "_view_module_version": "1.5.0",
            "_view_name": "ProgressView",
            "bar_style": "success",
            "description": "",
            "description_tooltip": null,
            "layout": "IPY_MODEL_fae4d94e972f441cabc522701c04833e",
            "max": 110169393,
            "min": 0,
            "orientation": "horizontal",
            "style": "IPY_MODEL_b628c6baf3034655a17d5109eebde498",
            "value": 110169393
          }
        },
        "447353c15c6d4ed698068f1ccae8e435": {
          "model_module": "@jupyter-widgets/controls",
          "model_module_version": "1.5.0",
          "model_name": "HTMLModel",
          "state": {
            "_dom_classes": [],
            "_model_module": "@jupyter-widgets/controls",
            "_model_module_version": "1.5.0",
            "_model_name": "HTMLModel",
            "_view_count": null,
            "_view_module": "@jupyter-widgets/controls",
            "_view_module_version": "1.5.0",
            "_view_name": "HTMLView",
            "description": "",
            "description_tooltip": null,
            "layout": "IPY_MODEL_b04fa45bea53476bb3e9a249c1540682",
            "placeholder": "​",
            "style": "IPY_MODEL_c5d62d0650834193a0b92d486b70c785",
            "value": "Downloading https://huggingface.co/stanfordnlp/stanza-en/resolve/v1.5.0/models/lemma/craft.pt: 100%"
          }
        },
        "484957b3664a4e41b789cf5b58182dc8": {
          "model_module": "@jupyter-widgets/controls",
          "model_module_version": "1.5.0",
          "model_name": "DescriptionStyleModel",
          "state": {
            "_model_module": "@jupyter-widgets/controls",
            "_model_module_version": "1.5.0",
            "_model_name": "DescriptionStyleModel",
            "_view_count": null,
            "_view_module": "@jupyter-widgets/base",
            "_view_module_version": "1.2.0",
            "_view_name": "StyleView",
            "description_width": ""
          }
        },
        "487901dce7af4a0bad23cf6338f029fa": {
          "model_module": "@jupyter-widgets/controls",
          "model_module_version": "1.5.0",
          "model_name": "FloatProgressModel",
          "state": {
            "_dom_classes": [],
            "_model_module": "@jupyter-widgets/controls",
            "_model_module_version": "1.5.0",
            "_model_name": "FloatProgressModel",
            "_view_count": null,
            "_view_module": "@jupyter-widgets/controls",
            "_view_module_version": "1.5.0",
            "_view_name": "ProgressView",
            "bar_style": "success",
            "description": "",
            "description_tooltip": null,
            "layout": "IPY_MODEL_ea2b3f408ddb411f8e863d955ddd4c71",
            "max": 21561485,
            "min": 0,
            "orientation": "horizontal",
            "style": "IPY_MODEL_1b1b1e3b6dc44ba9886ba3feef950101",
            "value": 21561485
          }
        },
        "49bfa756b68d4273bb28f599dac8b092": {
          "model_module": "@jupyter-widgets/controls",
          "model_module_version": "1.5.0",
          "model_name": "HTMLModel",
          "state": {
            "_dom_classes": [],
            "_model_module": "@jupyter-widgets/controls",
            "_model_module_version": "1.5.0",
            "_model_name": "HTMLModel",
            "_view_count": null,
            "_view_module": "@jupyter-widgets/controls",
            "_view_module_version": "1.5.0",
            "_view_name": "HTMLView",
            "description": "",
            "description_tooltip": null,
            "layout": "IPY_MODEL_068db75833dc4a82aaaf4e2eeda5850a",
            "placeholder": "​",
            "style": "IPY_MODEL_9c2ab0f6ebfa4e68a5567a6dd0b8d833",
            "value": "Downloading https://huggingface.co/stanfordnlp/stanza-en/resolve/v1.5.0/models/depparse/craft.pt: 100%"
          }
        },
        "49dcea384c77450aabe76b16a431e7cd": {
          "model_module": "@jupyter-widgets/controls",
          "model_module_version": "1.5.0",
          "model_name": "DescriptionStyleModel",
          "state": {
            "_model_module": "@jupyter-widgets/controls",
            "_model_module_version": "1.5.0",
            "_model_name": "DescriptionStyleModel",
            "_view_count": null,
            "_view_module": "@jupyter-widgets/base",
            "_view_module_version": "1.2.0",
            "_view_name": "StyleView",
            "description_width": ""
          }
        },
        "4e680b9f25af408889326c658ba3c772": {
          "model_module": "@jupyter-widgets/controls",
          "model_module_version": "1.5.0",
          "model_name": "HTMLModel",
          "state": {
            "_dom_classes": [],
            "_model_module": "@jupyter-widgets/controls",
            "_model_module_version": "1.5.0",
            "_model_name": "HTMLModel",
            "_view_count": null,
            "_view_module": "@jupyter-widgets/controls",
            "_view_module_version": "1.5.0",
            "_view_name": "HTMLView",
            "description": "",
            "description_tooltip": null,
            "layout": "IPY_MODEL_50820fc0decd452abd0c99e0eb96c730",
            "placeholder": "​",
            "style": "IPY_MODEL_024cddf37b9d4b83895ba7a61dabc426",
            "value": " 110M/110M [00:01&lt;00:00, 116MB/s]"
          }
        },
        "50820fc0decd452abd0c99e0eb96c730": {
          "model_module": "@jupyter-widgets/base",
          "model_module_version": "1.2.0",
          "model_name": "LayoutModel",
          "state": {
            "_model_module": "@jupyter-widgets/base",
            "_model_module_version": "1.2.0",
            "_model_name": "LayoutModel",
            "_view_count": null,
            "_view_module": "@jupyter-widgets/base",
            "_view_module_version": "1.2.0",
            "_view_name": "LayoutView",
            "align_content": null,
            "align_items": null,
            "align_self": null,
            "border": null,
            "bottom": null,
            "display": null,
            "flex": null,
            "flex_flow": null,
            "grid_area": null,
            "grid_auto_columns": null,
            "grid_auto_flow": null,
            "grid_auto_rows": null,
            "grid_column": null,
            "grid_gap": null,
            "grid_row": null,
            "grid_template_areas": null,
            "grid_template_columns": null,
            "grid_template_rows": null,
            "height": null,
            "justify_content": null,
            "justify_items": null,
            "left": null,
            "margin": null,
            "max_height": null,
            "max_width": null,
            "min_height": null,
            "min_width": null,
            "object_fit": null,
            "object_position": null,
            "order": null,
            "overflow": null,
            "overflow_x": null,
            "overflow_y": null,
            "padding": null,
            "right": null,
            "top": null,
            "visibility": null,
            "width": null
          }
        },
        "50ee7e81f36547af9468625de52af4a0": {
          "model_module": "@jupyter-widgets/base",
          "model_module_version": "1.2.0",
          "model_name": "LayoutModel",
          "state": {
            "_model_module": "@jupyter-widgets/base",
            "_model_module_version": "1.2.0",
            "_model_name": "LayoutModel",
            "_view_count": null,
            "_view_module": "@jupyter-widgets/base",
            "_view_module_version": "1.2.0",
            "_view_name": "LayoutView",
            "align_content": null,
            "align_items": null,
            "align_self": null,
            "border": null,
            "bottom": null,
            "display": null,
            "flex": null,
            "flex_flow": null,
            "grid_area": null,
            "grid_auto_columns": null,
            "grid_auto_flow": null,
            "grid_auto_rows": null,
            "grid_column": null,
            "grid_gap": null,
            "grid_row": null,
            "grid_template_areas": null,
            "grid_template_columns": null,
            "grid_template_rows": null,
            "height": null,
            "justify_content": null,
            "justify_items": null,
            "left": null,
            "margin": null,
            "max_height": null,
            "max_width": null,
            "min_height": null,
            "min_width": null,
            "object_fit": null,
            "object_position": null,
            "order": null,
            "overflow": null,
            "overflow_x": null,
            "overflow_y": null,
            "padding": null,
            "right": null,
            "top": null,
            "visibility": null,
            "width": null
          }
        },
        "567704ca8cb9455893920435794ef528": {
          "model_module": "@jupyter-widgets/controls",
          "model_module_version": "1.5.0",
          "model_name": "ProgressStyleModel",
          "state": {
            "_model_module": "@jupyter-widgets/controls",
            "_model_module_version": "1.5.0",
            "_model_name": "ProgressStyleModel",
            "_view_count": null,
            "_view_module": "@jupyter-widgets/base",
            "_view_module_version": "1.2.0",
            "_view_name": "StyleView",
            "bar_color": null,
            "description_width": ""
          }
        },
        "5e16f5b752ae496282ae16ec14678513": {
          "model_module": "@jupyter-widgets/controls",
          "model_module_version": "1.5.0",
          "model_name": "HTMLModel",
          "state": {
            "_dom_classes": [],
            "_model_module": "@jupyter-widgets/controls",
            "_model_module_version": "1.5.0",
            "_model_name": "HTMLModel",
            "_view_count": null,
            "_view_module": "@jupyter-widgets/controls",
            "_view_module_version": "1.5.0",
            "_view_name": "HTMLView",
            "description": "",
            "description_tooltip": null,
            "layout": "IPY_MODEL_0981131595b14dadbabc56f76b57cf5c",
            "placeholder": "​",
            "style": "IPY_MODEL_a8d988c4024d45079edead6bd68c0944",
            "value": " 649k/649k [00:00&lt;00:00, 6.50MB/s]"
          }
        },
        "63e361d21bf241d99f415ccbf04c8ef8": {
          "model_module": "@jupyter-widgets/controls",
          "model_module_version": "1.5.0",
          "model_name": "DescriptionStyleModel",
          "state": {
            "_model_module": "@jupyter-widgets/controls",
            "_model_module_version": "1.5.0",
            "_model_name": "DescriptionStyleModel",
            "_view_count": null,
            "_view_module": "@jupyter-widgets/base",
            "_view_module_version": "1.2.0",
            "_view_name": "StyleView",
            "description_width": ""
          }
        },
        "67ce011669cb4330828f39bdbf3f4fef": {
          "model_module": "@jupyter-widgets/base",
          "model_module_version": "1.2.0",
          "model_name": "LayoutModel",
          "state": {
            "_model_module": "@jupyter-widgets/base",
            "_model_module_version": "1.2.0",
            "_model_name": "LayoutModel",
            "_view_count": null,
            "_view_module": "@jupyter-widgets/base",
            "_view_module_version": "1.2.0",
            "_view_name": "LayoutView",
            "align_content": null,
            "align_items": null,
            "align_self": null,
            "border": null,
            "bottom": null,
            "display": null,
            "flex": null,
            "flex_flow": null,
            "grid_area": null,
            "grid_auto_columns": null,
            "grid_auto_flow": null,
            "grid_auto_rows": null,
            "grid_column": null,
            "grid_gap": null,
            "grid_row": null,
            "grid_template_areas": null,
            "grid_template_columns": null,
            "grid_template_rows": null,
            "height": null,
            "justify_content": null,
            "justify_items": null,
            "left": null,
            "margin": null,
            "max_height": null,
            "max_width": null,
            "min_height": null,
            "min_width": null,
            "object_fit": null,
            "object_position": null,
            "order": null,
            "overflow": null,
            "overflow_x": null,
            "overflow_y": null,
            "padding": null,
            "right": null,
            "top": null,
            "visibility": null,
            "width": null
          }
        },
        "710ef14a12f14c3990e9d1c1601694e4": {
          "model_module": "@jupyter-widgets/controls",
          "model_module_version": "1.5.0",
          "model_name": "FloatProgressModel",
          "state": {
            "_dom_classes": [],
            "_model_module": "@jupyter-widgets/controls",
            "_model_module_version": "1.5.0",
            "_model_name": "FloatProgressModel",
            "_view_count": null,
            "_view_module": "@jupyter-widgets/controls",
            "_view_module_version": "1.5.0",
            "_view_name": "ProgressView",
            "bar_style": "success",
            "description": "",
            "description_tooltip": null,
            "layout": "IPY_MODEL_0687ab2ee5914c48a3470d10870adc40",
            "max": 30015,
            "min": 0,
            "orientation": "horizontal",
            "style": "IPY_MODEL_80e60f544da64befb3482f8503b1e69f",
            "value": 30015
          }
        },
        "71d3a8ddb2ef4003b829f42eb59007ec": {
          "model_module": "@jupyter-widgets/controls",
          "model_module_version": "1.5.0",
          "model_name": "FloatProgressModel",
          "state": {
            "_dom_classes": [],
            "_model_module": "@jupyter-widgets/controls",
            "_model_module_version": "1.5.0",
            "_model_name": "FloatProgressModel",
            "_view_count": null,
            "_view_module": "@jupyter-widgets/controls",
            "_view_module_version": "1.5.0",
            "_view_name": "ProgressView",
            "bar_style": "success",
            "description": "",
            "description_tooltip": null,
            "layout": "IPY_MODEL_8eaf933192f94c1abb1e6aef73aa08dd",
            "max": 648917,
            "min": 0,
            "orientation": "horizontal",
            "style": "IPY_MODEL_567704ca8cb9455893920435794ef528",
            "value": 648917
          }
        },
        "79da521c31384f15a926b1e93b3aa364": {
          "model_module": "@jupyter-widgets/controls",
          "model_module_version": "1.5.0",
          "model_name": "DescriptionStyleModel",
          "state": {
            "_model_module": "@jupyter-widgets/controls",
            "_model_module_version": "1.5.0",
            "_model_name": "DescriptionStyleModel",
            "_view_count": null,
            "_view_module": "@jupyter-widgets/base",
            "_view_module_version": "1.2.0",
            "_view_name": "StyleView",
            "description_width": ""
          }
        },
        "7fcbf9d597d14dada5a0263e2b4fc2f2": {
          "model_module": "@jupyter-widgets/controls",
          "model_module_version": "1.5.0",
          "model_name": "ProgressStyleModel",
          "state": {
            "_model_module": "@jupyter-widgets/controls",
            "_model_module_version": "1.5.0",
            "_model_name": "ProgressStyleModel",
            "_view_count": null,
            "_view_module": "@jupyter-widgets/base",
            "_view_module_version": "1.2.0",
            "_view_name": "StyleView",
            "bar_color": null,
            "description_width": ""
          }
        },
        "80260baa2d694d36b2b8b2281e8d0c95": {
          "model_module": "@jupyter-widgets/controls",
          "model_module_version": "1.5.0",
          "model_name": "FloatProgressModel",
          "state": {
            "_dom_classes": [],
            "_model_module": "@jupyter-widgets/controls",
            "_model_module_version": "1.5.0",
            "_model_name": "FloatProgressModel",
            "_view_count": null,
            "_view_module": "@jupyter-widgets/controls",
            "_view_module_version": "1.5.0",
            "_view_name": "ProgressView",
            "bar_style": "success",
            "description": "",
            "description_tooltip": null,
            "layout": "IPY_MODEL_50ee7e81f36547af9468625de52af4a0",
            "max": 4554906,
            "min": 0,
            "orientation": "horizontal",
            "style": "IPY_MODEL_efec41e2400c4164b7d5a6e29db083bb",
            "value": 4554906
          }
        },
        "808da6d114d146d0b80d29060c0e33a0": {
          "model_module": "@jupyter-widgets/controls",
          "model_module_version": "1.5.0",
          "model_name": "HBoxModel",
          "state": {
            "_dom_classes": [],
            "_model_module": "@jupyter-widgets/controls",
            "_model_module_version": "1.5.0",
            "_model_name": "HBoxModel",
            "_view_count": null,
            "_view_module": "@jupyter-widgets/controls",
            "_view_module_version": "1.5.0",
            "_view_name": "HBoxView",
            "box_style": "",
            "children": [
              "IPY_MODEL_447353c15c6d4ed698068f1ccae8e435",
              "IPY_MODEL_80260baa2d694d36b2b8b2281e8d0c95",
              "IPY_MODEL_862aa60a4d1043fe986ab015dc9369bf"
            ],
            "layout": "IPY_MODEL_88261f1e3acf4153b3d697436495207a"
          }
        },
        "80e60f544da64befb3482f8503b1e69f": {
          "model_module": "@jupyter-widgets/controls",
          "model_module_version": "1.5.0",
          "model_name": "ProgressStyleModel",
          "state": {
            "_model_module": "@jupyter-widgets/controls",
            "_model_module_version": "1.5.0",
            "_model_name": "ProgressStyleModel",
            "_view_count": null,
            "_view_module": "@jupyter-widgets/base",
            "_view_module_version": "1.2.0",
            "_view_name": "StyleView",
            "bar_color": null,
            "description_width": ""
          }
        },
        "82f5ffb7200f46b7b030a42321e251f8": {
          "model_module": "@jupyter-widgets/base",
          "model_module_version": "1.2.0",
          "model_name": "LayoutModel",
          "state": {
            "_model_module": "@jupyter-widgets/base",
            "_model_module_version": "1.2.0",
            "_model_name": "LayoutModel",
            "_view_count": null,
            "_view_module": "@jupyter-widgets/base",
            "_view_module_version": "1.2.0",
            "_view_name": "LayoutView",
            "align_content": null,
            "align_items": null,
            "align_self": null,
            "border": null,
            "bottom": null,
            "display": null,
            "flex": null,
            "flex_flow": null,
            "grid_area": null,
            "grid_auto_columns": null,
            "grid_auto_flow": null,
            "grid_auto_rows": null,
            "grid_column": null,
            "grid_gap": null,
            "grid_row": null,
            "grid_template_areas": null,
            "grid_template_columns": null,
            "grid_template_rows": null,
            "height": null,
            "justify_content": null,
            "justify_items": null,
            "left": null,
            "margin": null,
            "max_height": null,
            "max_width": null,
            "min_height": null,
            "min_width": null,
            "object_fit": null,
            "object_position": null,
            "order": null,
            "overflow": null,
            "overflow_x": null,
            "overflow_y": null,
            "padding": null,
            "right": null,
            "top": null,
            "visibility": null,
            "width": null
          }
        },
        "862aa60a4d1043fe986ab015dc9369bf": {
          "model_module": "@jupyter-widgets/controls",
          "model_module_version": "1.5.0",
          "model_name": "HTMLModel",
          "state": {
            "_dom_classes": [],
            "_model_module": "@jupyter-widgets/controls",
            "_model_module_version": "1.5.0",
            "_model_name": "HTMLModel",
            "_view_count": null,
            "_view_module": "@jupyter-widgets/controls",
            "_view_module_version": "1.5.0",
            "_view_name": "HTMLView",
            "description": "",
            "description_tooltip": null,
            "layout": "IPY_MODEL_0b035745e1604671bf0e4e249ec16cde",
            "placeholder": "​",
            "style": "IPY_MODEL_d4aee88543894c468ac70e5322cb299c",
            "value": " 4.55M/4.55M [00:00&lt;00:00, 20.3MB/s]"
          }
        },
        "87b535a49b1c40fe8aa932ccdc6b7415": {
          "model_module": "@jupyter-widgets/base",
          "model_module_version": "1.2.0",
          "model_name": "LayoutModel",
          "state": {
            "_model_module": "@jupyter-widgets/base",
            "_model_module_version": "1.2.0",
            "_model_name": "LayoutModel",
            "_view_count": null,
            "_view_module": "@jupyter-widgets/base",
            "_view_module_version": "1.2.0",
            "_view_name": "LayoutView",
            "align_content": null,
            "align_items": null,
            "align_self": null,
            "border": null,
            "bottom": null,
            "display": null,
            "flex": null,
            "flex_flow": null,
            "grid_area": null,
            "grid_auto_columns": null,
            "grid_auto_flow": null,
            "grid_auto_rows": null,
            "grid_column": null,
            "grid_gap": null,
            "grid_row": null,
            "grid_template_areas": null,
            "grid_template_columns": null,
            "grid_template_rows": null,
            "height": null,
            "justify_content": null,
            "justify_items": null,
            "left": null,
            "margin": null,
            "max_height": null,
            "max_width": null,
            "min_height": null,
            "min_width": null,
            "object_fit": null,
            "object_position": null,
            "order": null,
            "overflow": null,
            "overflow_x": null,
            "overflow_y": null,
            "padding": null,
            "right": null,
            "top": null,
            "visibility": null,
            "width": null
          }
        },
        "88261f1e3acf4153b3d697436495207a": {
          "model_module": "@jupyter-widgets/base",
          "model_module_version": "1.2.0",
          "model_name": "LayoutModel",
          "state": {
            "_model_module": "@jupyter-widgets/base",
            "_model_module_version": "1.2.0",
            "_model_name": "LayoutModel",
            "_view_count": null,
            "_view_module": "@jupyter-widgets/base",
            "_view_module_version": "1.2.0",
            "_view_name": "LayoutView",
            "align_content": null,
            "align_items": null,
            "align_self": null,
            "border": null,
            "bottom": null,
            "display": null,
            "flex": null,
            "flex_flow": null,
            "grid_area": null,
            "grid_auto_columns": null,
            "grid_auto_flow": null,
            "grid_auto_rows": null,
            "grid_column": null,
            "grid_gap": null,
            "grid_row": null,
            "grid_template_areas": null,
            "grid_template_columns": null,
            "grid_template_rows": null,
            "height": null,
            "justify_content": null,
            "justify_items": null,
            "left": null,
            "margin": null,
            "max_height": null,
            "max_width": null,
            "min_height": null,
            "min_width": null,
            "object_fit": null,
            "object_position": null,
            "order": null,
            "overflow": null,
            "overflow_x": null,
            "overflow_y": null,
            "padding": null,
            "right": null,
            "top": null,
            "visibility": null,
            "width": null
          }
        },
        "89b63312a5d945ef849039598c128b60": {
          "model_module": "@jupyter-widgets/controls",
          "model_module_version": "1.5.0",
          "model_name": "HBoxModel",
          "state": {
            "_dom_classes": [],
            "_model_module": "@jupyter-widgets/controls",
            "_model_module_version": "1.5.0",
            "_model_name": "HBoxModel",
            "_view_count": null,
            "_view_module": "@jupyter-widgets/controls",
            "_view_module_version": "1.5.0",
            "_view_name": "HBoxView",
            "box_style": "",
            "children": [
              "IPY_MODEL_9f05cd56160c44b3816a189e85a6f12b",
              "IPY_MODEL_ceae1149933b406abedeabecd7b6ef76",
              "IPY_MODEL_3e9de0d8afa042f085fe35669d46a821"
            ],
            "layout": "IPY_MODEL_05e3a9d0969244678719075391fe7718"
          }
        },
        "8ad4b9c7d61a41e3943289e490f0564f": {
          "model_module": "@jupyter-widgets/controls",
          "model_module_version": "1.5.0",
          "model_name": "HTMLModel",
          "state": {
            "_dom_classes": [],
            "_model_module": "@jupyter-widgets/controls",
            "_model_module_version": "1.5.0",
            "_model_name": "HTMLModel",
            "_view_count": null,
            "_view_module": "@jupyter-widgets/controls",
            "_view_module_version": "1.5.0",
            "_view_name": "HTMLView",
            "description": "",
            "description_tooltip": null,
            "layout": "IPY_MODEL_67ce011669cb4330828f39bdbf3f4fef",
            "placeholder": "​",
            "style": "IPY_MODEL_484957b3664a4e41b789cf5b58182dc8",
            "value": "Downloading https://raw.githubusercontent.com/stanfordnlp/stanza-resources/main/resources_1.5.0.json: "
          }
        },
        "8eaf933192f94c1abb1e6aef73aa08dd": {
          "model_module": "@jupyter-widgets/base",
          "model_module_version": "1.2.0",
          "model_name": "LayoutModel",
          "state": {
            "_model_module": "@jupyter-widgets/base",
            "_model_module_version": "1.2.0",
            "_model_name": "LayoutModel",
            "_view_count": null,
            "_view_module": "@jupyter-widgets/base",
            "_view_module_version": "1.2.0",
            "_view_name": "LayoutView",
            "align_content": null,
            "align_items": null,
            "align_self": null,
            "border": null,
            "bottom": null,
            "display": null,
            "flex": null,
            "flex_flow": null,
            "grid_area": null,
            "grid_auto_columns": null,
            "grid_auto_flow": null,
            "grid_auto_rows": null,
            "grid_column": null,
            "grid_gap": null,
            "grid_row": null,
            "grid_template_areas": null,
            "grid_template_columns": null,
            "grid_template_rows": null,
            "height": null,
            "justify_content": null,
            "justify_items": null,
            "left": null,
            "margin": null,
            "max_height": null,
            "max_width": null,
            "min_height": null,
            "min_width": null,
            "object_fit": null,
            "object_position": null,
            "order": null,
            "overflow": null,
            "overflow_x": null,
            "overflow_y": null,
            "padding": null,
            "right": null,
            "top": null,
            "visibility": null,
            "width": null
          }
        },
        "946446430c33488bb22b3e975f4c6c3f": {
          "model_module": "@jupyter-widgets/controls",
          "model_module_version": "1.5.0",
          "model_name": "HBoxModel",
          "state": {
            "_dom_classes": [],
            "_model_module": "@jupyter-widgets/controls",
            "_model_module_version": "1.5.0",
            "_model_name": "HBoxModel",
            "_view_count": null,
            "_view_module": "@jupyter-widgets/controls",
            "_view_module_version": "1.5.0",
            "_view_name": "HBoxView",
            "box_style": "",
            "children": [
              "IPY_MODEL_8ad4b9c7d61a41e3943289e490f0564f",
              "IPY_MODEL_710ef14a12f14c3990e9d1c1601694e4",
              "IPY_MODEL_239dc11693234a859e60942619f34ea8"
            ],
            "layout": "IPY_MODEL_e2b32d5a5682490f9c2240e78aa75f43"
          }
        },
        "9869cc5b56804a499d383a72a33f9877": {
          "model_module": "@jupyter-widgets/controls",
          "model_module_version": "1.5.0",
          "model_name": "HTMLModel",
          "state": {
            "_dom_classes": [],
            "_model_module": "@jupyter-widgets/controls",
            "_model_module_version": "1.5.0",
            "_model_name": "HTMLModel",
            "_view_count": null,
            "_view_module": "@jupyter-widgets/controls",
            "_view_module_version": "1.5.0",
            "_view_name": "HTMLView",
            "description": "",
            "description_tooltip": null,
            "layout": "IPY_MODEL_39f5661e5ef04bae812296121fd9f212",
            "placeholder": "​",
            "style": "IPY_MODEL_a505916426384f89b7be425d42ae39ab",
            "value": "Downloading https://huggingface.co/stanfordnlp/stanza-en/resolve/v1.5.0/models/pos/craft.pt: 100%"
          }
        },
        "9c2ab0f6ebfa4e68a5567a6dd0b8d833": {
          "model_module": "@jupyter-widgets/controls",
          "model_module_version": "1.5.0",
          "model_name": "DescriptionStyleModel",
          "state": {
            "_model_module": "@jupyter-widgets/controls",
            "_model_module_version": "1.5.0",
            "_model_name": "DescriptionStyleModel",
            "_view_count": null,
            "_view_module": "@jupyter-widgets/base",
            "_view_module_version": "1.2.0",
            "_view_name": "StyleView",
            "description_width": ""
          }
        },
        "9f05cd56160c44b3816a189e85a6f12b": {
          "model_module": "@jupyter-widgets/controls",
          "model_module_version": "1.5.0",
          "model_name": "HTMLModel",
          "state": {
            "_dom_classes": [],
            "_model_module": "@jupyter-widgets/controls",
            "_model_module_version": "1.5.0",
            "_model_name": "HTMLModel",
            "_view_count": null,
            "_view_module": "@jupyter-widgets/controls",
            "_view_module_version": "1.5.0",
            "_view_name": "HTMLView",
            "description": "",
            "description_tooltip": null,
            "layout": "IPY_MODEL_dfecf8be0c86406bbba323fc31dcd553",
            "placeholder": "​",
            "style": "IPY_MODEL_79da521c31384f15a926b1e93b3aa364",
            "value": "Downloading https://huggingface.co/stanfordnlp/stanza-en/resolve/v1.5.0/models/pretrain/craft.pt: 100%"
          }
        },
        "a505916426384f89b7be425d42ae39ab": {
          "model_module": "@jupyter-widgets/controls",
          "model_module_version": "1.5.0",
          "model_name": "DescriptionStyleModel",
          "state": {
            "_model_module": "@jupyter-widgets/controls",
            "_model_module_version": "1.5.0",
            "_model_name": "DescriptionStyleModel",
            "_view_count": null,
            "_view_module": "@jupyter-widgets/base",
            "_view_module_version": "1.2.0",
            "_view_name": "StyleView",
            "description_width": ""
          }
        },
        "a658bda663f74f398bc4180d5d4ee455": {
          "model_module": "@jupyter-widgets/controls",
          "model_module_version": "1.5.0",
          "model_name": "HTMLModel",
          "state": {
            "_dom_classes": [],
            "_model_module": "@jupyter-widgets/controls",
            "_model_module_version": "1.5.0",
            "_model_name": "HTMLModel",
            "_view_count": null,
            "_view_module": "@jupyter-widgets/controls",
            "_view_module_version": "1.5.0",
            "_view_name": "HTMLView",
            "description": "",
            "description_tooltip": null,
            "layout": "IPY_MODEL_82f5ffb7200f46b7b030a42321e251f8",
            "placeholder": "​",
            "style": "IPY_MODEL_ab45659f4d8142c09e2e8eba97a7a105",
            "value": "Downloading https://huggingface.co/stanfordnlp/stanza-en/resolve/v1.5.0/models/tokenize/craft.pt: 100%"
          }
        },
        "a8d988c4024d45079edead6bd68c0944": {
          "model_module": "@jupyter-widgets/controls",
          "model_module_version": "1.5.0",
          "model_name": "DescriptionStyleModel",
          "state": {
            "_model_module": "@jupyter-widgets/controls",
            "_model_module_version": "1.5.0",
            "_model_name": "DescriptionStyleModel",
            "_view_count": null,
            "_view_module": "@jupyter-widgets/base",
            "_view_module_version": "1.2.0",
            "_view_name": "StyleView",
            "description_width": ""
          }
        },
        "aa0a426529134e85aebac567e5f504f3": {
          "model_module": "@jupyter-widgets/base",
          "model_module_version": "1.2.0",
          "model_name": "LayoutModel",
          "state": {
            "_model_module": "@jupyter-widgets/base",
            "_model_module_version": "1.2.0",
            "_model_name": "LayoutModel",
            "_view_count": null,
            "_view_module": "@jupyter-widgets/base",
            "_view_module_version": "1.2.0",
            "_view_name": "LayoutView",
            "align_content": null,
            "align_items": null,
            "align_self": null,
            "border": null,
            "bottom": null,
            "display": null,
            "flex": null,
            "flex_flow": null,
            "grid_area": null,
            "grid_auto_columns": null,
            "grid_auto_flow": null,
            "grid_auto_rows": null,
            "grid_column": null,
            "grid_gap": null,
            "grid_row": null,
            "grid_template_areas": null,
            "grid_template_columns": null,
            "grid_template_rows": null,
            "height": null,
            "justify_content": null,
            "justify_items": null,
            "left": null,
            "margin": null,
            "max_height": null,
            "max_width": null,
            "min_height": null,
            "min_width": null,
            "object_fit": null,
            "object_position": null,
            "order": null,
            "overflow": null,
            "overflow_x": null,
            "overflow_y": null,
            "padding": null,
            "right": null,
            "top": null,
            "visibility": null,
            "width": null
          }
        },
        "ab45659f4d8142c09e2e8eba97a7a105": {
          "model_module": "@jupyter-widgets/controls",
          "model_module_version": "1.5.0",
          "model_name": "DescriptionStyleModel",
          "state": {
            "_model_module": "@jupyter-widgets/controls",
            "_model_module_version": "1.5.0",
            "_model_name": "DescriptionStyleModel",
            "_view_count": null,
            "_view_module": "@jupyter-widgets/base",
            "_view_module_version": "1.2.0",
            "_view_name": "StyleView",
            "description_width": ""
          }
        },
        "ab7deb06e47f45d69db507eaf85f0a7c": {
          "model_module": "@jupyter-widgets/controls",
          "model_module_version": "1.5.0",
          "model_name": "HBoxModel",
          "state": {
            "_dom_classes": [],
            "_model_module": "@jupyter-widgets/controls",
            "_model_module_version": "1.5.0",
            "_model_name": "HBoxModel",
            "_view_count": null,
            "_view_module": "@jupyter-widgets/controls",
            "_view_module_version": "1.5.0",
            "_view_name": "HBoxView",
            "box_style": "",
            "children": [
              "IPY_MODEL_a658bda663f74f398bc4180d5d4ee455",
              "IPY_MODEL_71d3a8ddb2ef4003b829f42eb59007ec",
              "IPY_MODEL_5e16f5b752ae496282ae16ec14678513"
            ],
            "layout": "IPY_MODEL_0ca931837f6541989358021504edae29"
          }
        },
        "b04fa45bea53476bb3e9a249c1540682": {
          "model_module": "@jupyter-widgets/base",
          "model_module_version": "1.2.0",
          "model_name": "LayoutModel",
          "state": {
            "_model_module": "@jupyter-widgets/base",
            "_model_module_version": "1.2.0",
            "_model_name": "LayoutModel",
            "_view_count": null,
            "_view_module": "@jupyter-widgets/base",
            "_view_module_version": "1.2.0",
            "_view_name": "LayoutView",
            "align_content": null,
            "align_items": null,
            "align_self": null,
            "border": null,
            "bottom": null,
            "display": null,
            "flex": null,
            "flex_flow": null,
            "grid_area": null,
            "grid_auto_columns": null,
            "grid_auto_flow": null,
            "grid_auto_rows": null,
            "grid_column": null,
            "grid_gap": null,
            "grid_row": null,
            "grid_template_areas": null,
            "grid_template_columns": null,
            "grid_template_rows": null,
            "height": null,
            "justify_content": null,
            "justify_items": null,
            "left": null,
            "margin": null,
            "max_height": null,
            "max_width": null,
            "min_height": null,
            "min_width": null,
            "object_fit": null,
            "object_position": null,
            "order": null,
            "overflow": null,
            "overflow_x": null,
            "overflow_y": null,
            "padding": null,
            "right": null,
            "top": null,
            "visibility": null,
            "width": null
          }
        },
        "b628c6baf3034655a17d5109eebde498": {
          "model_module": "@jupyter-widgets/controls",
          "model_module_version": "1.5.0",
          "model_name": "ProgressStyleModel",
          "state": {
            "_model_module": "@jupyter-widgets/controls",
            "_model_module_version": "1.5.0",
            "_model_name": "ProgressStyleModel",
            "_view_count": null,
            "_view_module": "@jupyter-widgets/base",
            "_view_module_version": "1.2.0",
            "_view_name": "StyleView",
            "bar_color": null,
            "description_width": ""
          }
        },
        "c5d62d0650834193a0b92d486b70c785": {
          "model_module": "@jupyter-widgets/controls",
          "model_module_version": "1.5.0",
          "model_name": "DescriptionStyleModel",
          "state": {
            "_model_module": "@jupyter-widgets/controls",
            "_model_module_version": "1.5.0",
            "_model_name": "DescriptionStyleModel",
            "_view_count": null,
            "_view_module": "@jupyter-widgets/base",
            "_view_module_version": "1.2.0",
            "_view_name": "StyleView",
            "description_width": ""
          }
        },
        "cd96d9ace1f24f5d9eba8cb291ee442b": {
          "model_module": "@jupyter-widgets/base",
          "model_module_version": "1.2.0",
          "model_name": "LayoutModel",
          "state": {
            "_model_module": "@jupyter-widgets/base",
            "_model_module_version": "1.2.0",
            "_model_name": "LayoutModel",
            "_view_count": null,
            "_view_module": "@jupyter-widgets/base",
            "_view_module_version": "1.2.0",
            "_view_name": "LayoutView",
            "align_content": null,
            "align_items": null,
            "align_self": null,
            "border": null,
            "bottom": null,
            "display": null,
            "flex": null,
            "flex_flow": null,
            "grid_area": null,
            "grid_auto_columns": null,
            "grid_auto_flow": null,
            "grid_auto_rows": null,
            "grid_column": null,
            "grid_gap": null,
            "grid_row": null,
            "grid_template_areas": null,
            "grid_template_columns": null,
            "grid_template_rows": null,
            "height": null,
            "justify_content": null,
            "justify_items": null,
            "left": null,
            "margin": null,
            "max_height": null,
            "max_width": null,
            "min_height": null,
            "min_width": null,
            "object_fit": null,
            "object_position": null,
            "order": null,
            "overflow": null,
            "overflow_x": null,
            "overflow_y": null,
            "padding": null,
            "right": null,
            "top": null,
            "visibility": null,
            "width": null
          }
        },
        "ceae1149933b406abedeabecd7b6ef76": {
          "model_module": "@jupyter-widgets/controls",
          "model_module_version": "1.5.0",
          "model_name": "FloatProgressModel",
          "state": {
            "_dom_classes": [],
            "_model_module": "@jupyter-widgets/controls",
            "_model_module_version": "1.5.0",
            "_model_name": "FloatProgressModel",
            "_view_count": null,
            "_view_module": "@jupyter-widgets/controls",
            "_view_module_version": "1.5.0",
            "_view_name": "ProgressView",
            "bar_style": "success",
            "description": "",
            "description_tooltip": null,
            "layout": "IPY_MODEL_d8cad346fcba413d8a7a6dec25cfc32b",
            "max": 82635089,
            "min": 0,
            "orientation": "horizontal",
            "style": "IPY_MODEL_7fcbf9d597d14dada5a0263e2b4fc2f2",
            "value": 82635089
          }
        },
        "d4aee88543894c468ac70e5322cb299c": {
          "model_module": "@jupyter-widgets/controls",
          "model_module_version": "1.5.0",
          "model_name": "DescriptionStyleModel",
          "state": {
            "_model_module": "@jupyter-widgets/controls",
            "_model_module_version": "1.5.0",
            "_model_name": "DescriptionStyleModel",
            "_view_count": null,
            "_view_module": "@jupyter-widgets/base",
            "_view_module_version": "1.2.0",
            "_view_name": "StyleView",
            "description_width": ""
          }
        },
        "d8cad346fcba413d8a7a6dec25cfc32b": {
          "model_module": "@jupyter-widgets/base",
          "model_module_version": "1.2.0",
          "model_name": "LayoutModel",
          "state": {
            "_model_module": "@jupyter-widgets/base",
            "_model_module_version": "1.2.0",
            "_model_name": "LayoutModel",
            "_view_count": null,
            "_view_module": "@jupyter-widgets/base",
            "_view_module_version": "1.2.0",
            "_view_name": "LayoutView",
            "align_content": null,
            "align_items": null,
            "align_self": null,
            "border": null,
            "bottom": null,
            "display": null,
            "flex": null,
            "flex_flow": null,
            "grid_area": null,
            "grid_auto_columns": null,
            "grid_auto_flow": null,
            "grid_auto_rows": null,
            "grid_column": null,
            "grid_gap": null,
            "grid_row": null,
            "grid_template_areas": null,
            "grid_template_columns": null,
            "grid_template_rows": null,
            "height": null,
            "justify_content": null,
            "justify_items": null,
            "left": null,
            "margin": null,
            "max_height": null,
            "max_width": null,
            "min_height": null,
            "min_width": null,
            "object_fit": null,
            "object_position": null,
            "order": null,
            "overflow": null,
            "overflow_x": null,
            "overflow_y": null,
            "padding": null,
            "right": null,
            "top": null,
            "visibility": null,
            "width": null
          }
        },
        "dfecf8be0c86406bbba323fc31dcd553": {
          "model_module": "@jupyter-widgets/base",
          "model_module_version": "1.2.0",
          "model_name": "LayoutModel",
          "state": {
            "_model_module": "@jupyter-widgets/base",
            "_model_module_version": "1.2.0",
            "_model_name": "LayoutModel",
            "_view_count": null,
            "_view_module": "@jupyter-widgets/base",
            "_view_module_version": "1.2.0",
            "_view_name": "LayoutView",
            "align_content": null,
            "align_items": null,
            "align_self": null,
            "border": null,
            "bottom": null,
            "display": null,
            "flex": null,
            "flex_flow": null,
            "grid_area": null,
            "grid_auto_columns": null,
            "grid_auto_flow": null,
            "grid_auto_rows": null,
            "grid_column": null,
            "grid_gap": null,
            "grid_row": null,
            "grid_template_areas": null,
            "grid_template_columns": null,
            "grid_template_rows": null,
            "height": null,
            "justify_content": null,
            "justify_items": null,
            "left": null,
            "margin": null,
            "max_height": null,
            "max_width": null,
            "min_height": null,
            "min_width": null,
            "object_fit": null,
            "object_position": null,
            "order": null,
            "overflow": null,
            "overflow_x": null,
            "overflow_y": null,
            "padding": null,
            "right": null,
            "top": null,
            "visibility": null,
            "width": null
          }
        },
        "e2b32d5a5682490f9c2240e78aa75f43": {
          "model_module": "@jupyter-widgets/base",
          "model_module_version": "1.2.0",
          "model_name": "LayoutModel",
          "state": {
            "_model_module": "@jupyter-widgets/base",
            "_model_module_version": "1.2.0",
            "_model_name": "LayoutModel",
            "_view_count": null,
            "_view_module": "@jupyter-widgets/base",
            "_view_module_version": "1.2.0",
            "_view_name": "LayoutView",
            "align_content": null,
            "align_items": null,
            "align_self": null,
            "border": null,
            "bottom": null,
            "display": null,
            "flex": null,
            "flex_flow": null,
            "grid_area": null,
            "grid_auto_columns": null,
            "grid_auto_flow": null,
            "grid_auto_rows": null,
            "grid_column": null,
            "grid_gap": null,
            "grid_row": null,
            "grid_template_areas": null,
            "grid_template_columns": null,
            "grid_template_rows": null,
            "height": null,
            "justify_content": null,
            "justify_items": null,
            "left": null,
            "margin": null,
            "max_height": null,
            "max_width": null,
            "min_height": null,
            "min_width": null,
            "object_fit": null,
            "object_position": null,
            "order": null,
            "overflow": null,
            "overflow_x": null,
            "overflow_y": null,
            "padding": null,
            "right": null,
            "top": null,
            "visibility": null,
            "width": null
          }
        },
        "ea2b3f408ddb411f8e863d955ddd4c71": {
          "model_module": "@jupyter-widgets/base",
          "model_module_version": "1.2.0",
          "model_name": "LayoutModel",
          "state": {
            "_model_module": "@jupyter-widgets/base",
            "_model_module_version": "1.2.0",
            "_model_name": "LayoutModel",
            "_view_count": null,
            "_view_module": "@jupyter-widgets/base",
            "_view_module_version": "1.2.0",
            "_view_name": "LayoutView",
            "align_content": null,
            "align_items": null,
            "align_self": null,
            "border": null,
            "bottom": null,
            "display": null,
            "flex": null,
            "flex_flow": null,
            "grid_area": null,
            "grid_auto_columns": null,
            "grid_auto_flow": null,
            "grid_auto_rows": null,
            "grid_column": null,
            "grid_gap": null,
            "grid_row": null,
            "grid_template_areas": null,
            "grid_template_columns": null,
            "grid_template_rows": null,
            "height": null,
            "justify_content": null,
            "justify_items": null,
            "left": null,
            "margin": null,
            "max_height": null,
            "max_width": null,
            "min_height": null,
            "min_width": null,
            "object_fit": null,
            "object_position": null,
            "order": null,
            "overflow": null,
            "overflow_x": null,
            "overflow_y": null,
            "padding": null,
            "right": null,
            "top": null,
            "visibility": null,
            "width": null
          }
        },
        "efec41e2400c4164b7d5a6e29db083bb": {
          "model_module": "@jupyter-widgets/controls",
          "model_module_version": "1.5.0",
          "model_name": "ProgressStyleModel",
          "state": {
            "_model_module": "@jupyter-widgets/controls",
            "_model_module_version": "1.5.0",
            "_model_name": "ProgressStyleModel",
            "_view_count": null,
            "_view_module": "@jupyter-widgets/base",
            "_view_module_version": "1.2.0",
            "_view_name": "StyleView",
            "bar_color": null,
            "description_width": ""
          }
        },
        "f3ce98b0090b401d9e346f886072ed0e": {
          "model_module": "@jupyter-widgets/controls",
          "model_module_version": "1.5.0",
          "model_name": "HTMLModel",
          "state": {
            "_dom_classes": [],
            "_model_module": "@jupyter-widgets/controls",
            "_model_module_version": "1.5.0",
            "_model_name": "HTMLModel",
            "_view_count": null,
            "_view_module": "@jupyter-widgets/controls",
            "_view_module_version": "1.5.0",
            "_view_name": "HTMLView",
            "description": "",
            "description_tooltip": null,
            "layout": "IPY_MODEL_0ccdfd25b52441749e35433f18f9707c",
            "placeholder": "​",
            "style": "IPY_MODEL_49dcea384c77450aabe76b16a431e7cd",
            "value": " 21.6M/21.6M [00:00&lt;00:00, 50.5MB/s]"
          }
        },
        "fae4d94e972f441cabc522701c04833e": {
          "model_module": "@jupyter-widgets/base",
          "model_module_version": "1.2.0",
          "model_name": "LayoutModel",
          "state": {
            "_model_module": "@jupyter-widgets/base",
            "_model_module_version": "1.2.0",
            "_model_name": "LayoutModel",
            "_view_count": null,
            "_view_module": "@jupyter-widgets/base",
            "_view_module_version": "1.2.0",
            "_view_name": "LayoutView",
            "align_content": null,
            "align_items": null,
            "align_self": null,
            "border": null,
            "bottom": null,
            "display": null,
            "flex": null,
            "flex_flow": null,
            "grid_area": null,
            "grid_auto_columns": null,
            "grid_auto_flow": null,
            "grid_auto_rows": null,
            "grid_column": null,
            "grid_gap": null,
            "grid_row": null,
            "grid_template_areas": null,
            "grid_template_columns": null,
            "grid_template_rows": null,
            "height": null,
            "justify_content": null,
            "justify_items": null,
            "left": null,
            "margin": null,
            "max_height": null,
            "max_width": null,
            "min_height": null,
            "min_width": null,
            "object_fit": null,
            "object_position": null,
            "order": null,
            "overflow": null,
            "overflow_x": null,
            "overflow_y": null,
            "padding": null,
            "right": null,
            "top": null,
            "visibility": null,
            "width": null
          }
        }
      }
    }
  },
  "nbformat": 4,
  "nbformat_minor": 0
}